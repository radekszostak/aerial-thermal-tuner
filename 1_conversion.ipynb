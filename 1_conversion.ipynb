{
 "cells": [
  {
   "cell_type": "code",
   "execution_count": 1,
   "metadata": {},
   "outputs": [],
   "source": [
    "import os\n",
    "import struct\n",
    "import numpy as np\n",
    "from PIL import Image\n",
    "from tqdm import tqdm\n",
    "import subprocess\n",
    "from osgeo import gdal; gdal.UseExceptions()\n",
    "import warnings; warnings.filterwarnings(\"ignore\")\n",
    "from p_tqdm import p_umap\n",
    "from util import recreate_dir, load_config\n",
    "import shutil\n",
    "#import traceback\n",
    "# def recreate_dir(path):\n",
    "#     if os.path.exists(path):\n",
    "#         shutil.rmtree(path)\n",
    "#     os.makedirs(path)\n",
    "#     return path\n",
    "\n",
    "# def load_config(path):\n",
    "#     spec = importlib.util.spec_from_file_location(\"CFG\", path)\n",
    "#     CFG = importlib.util.module_from_spec(spec)\n",
    "#     spec.loader.exec_module(CFG)\n",
    "#     return CFG"
   ]
  },
  {
   "cell_type": "code",
   "execution_count": 2,
   "metadata": {},
   "outputs": [],
   "source": [
    "DATA_DIR = \"data/grodzisko_20230111\"\n",
    "CFG = load_config(f\"{DATA_DIR}/config.py\").CONVERSION"
   ]
  },
  {
   "cell_type": "code",
   "execution_count": 3,
   "metadata": {},
   "outputs": [],
   "source": [
    "RJPG_DIR = f\"{DATA_DIR}/rjpg\"\n",
    "TIF_RAW_DIR = f\"{DATA_DIR}/tif_raw\"\n",
    "TMP_DIR = f\"{DATA_DIR}/tmp\""
   ]
  },
  {
   "attachments": {},
   "cell_type": "markdown",
   "metadata": {},
   "source": [
    "# R-JPG to TIF"
   ]
  },
  {
   "cell_type": "code",
   "execution_count": 4,
   "metadata": {},
   "outputs": [
    {
     "data": {
      "text/plain": [
       "'data/grodzisko_20230111/tmp'"
      ]
     },
     "execution_count": 4,
     "metadata": {},
     "output_type": "execute_result"
    }
   ],
   "source": [
    "distance = round(CFG.DISTANCE)\n",
    "humidity = round(CFG.HUMIDITY)\n",
    "emissivity = round(CFG.EMISSIVITY,2)\n",
    "reflection = round(CFG.REFLECTION)\n",
    "assert os.path.exists(RJPG_DIR)\n",
    "recreate_dir(TIF_RAW_DIR)\n",
    "recreate_dir(TMP_DIR)"
   ]
  },
  {
   "cell_type": "code",
   "execution_count": 5,
   "metadata": {},
   "outputs": [],
   "source": [
    "\n",
    "def rjpg2tif(file_name):\n",
    "    #replace file extension to bin\n",
    "    \n",
    "    try:\n",
    "        subprocess.check_call(['./dji_irp', '-a', 'measure', '--measurefmt', 'float32', \n",
    "                        '--distance', str(distance), '--humidity', str(humidity), \n",
    "                        '--emissivity', str(emissivity), '--reflection', str(reflection), \n",
    "                        '-s', f\"{RJPG_DIR}/{file_name}\", '-o', f\"{TMP_DIR}/{file_name}\"], \n",
    "                        stdout=subprocess.DEVNULL, stderr=subprocess.DEVNULL)\n",
    "    except subprocess.CalledProcessError as e:\n",
    "        # invalid_files += 1\n",
    "        # pbar.set_postfix_str(f\"Invalid files: {invalid_files}\")\n",
    "        #print error stacktrace\n",
    "        \n",
    "        return False\n",
    "    img = Image.open(f\"{RJPG_DIR}/{file_name}\")\n",
    "    # decode temporary byte file to tif\n",
    "    arr = np.zeros(img.size[0]*img.size[1])\n",
    "    with open(f\"{TMP_DIR}/{file_name}\", \"rb\") as f:\n",
    "        data = f.read()\n",
    "        format = '{:d}f'.format(len(data)//4)\n",
    "        arr=np.array(struct.unpack(format, data))\n",
    "    arr = arr.reshape(img.size[1],img.size[0])\n",
    "    im = Image.fromarray(arr)\n",
    "    tif_file_name = file_name.replace('.JPG','.tif')\n",
    "    im.save(f\"{TIF_RAW_DIR}/{tif_file_name}\")\n",
    "    # copy exif data from original file to new tif\n",
    "    #os.system(f\"exiftool -tagsfromfile {RJPG_DIR}/{file_name} {TIF_RAW_DIR}/{tif_file_name} -overwrite_original_in_place\")\n",
    "    subprocess.check_call(['exiftool', '-tagsfromfile', f\"{RJPG_DIR}/{file_name}\", f\"{TIF_RAW_DIR}/{tif_file_name}\", '-overwrite_original_in_place'], stdout=subprocess.DEVNULL, stderr=subprocess.DEVNULL)\n",
    "    return True\n"
   ]
  },
  {
   "cell_type": "code",
   "execution_count": 6,
   "metadata": {},
   "outputs": [
    {
     "data": {
      "application/vnd.jupyter.widget-view+json": {
       "model_id": "4c7e76f76cb948d59e66749075581bc1",
       "version_major": 2,
       "version_minor": 0
      },
      "text/plain": [
       "  0%|          | 0/1211 [00:00<?, ?it/s]"
      ]
     },
     "metadata": {},
     "output_type": "display_data"
    },
    {
     "name": "stdout",
     "output_type": "stream",
     "text": [
      "Successfully converted 1211 files out of 1211\n"
     ]
    }
   ],
   "source": [
    "results = p_umap(rjpg2tif, os.listdir(RJPG_DIR))\n",
    "print(f\"Successfully converted {sum(results)} files out of {len(results)}\")"
   ]
  },
  {
   "cell_type": "markdown",
   "metadata": {},
   "source": [
    "# Cleanup"
   ]
  },
  {
   "cell_type": "code",
   "execution_count": null,
   "metadata": {},
   "outputs": [],
   "source": [
    "#clear temporary files\n",
    "shutil.rmtree(TMP_DIR)"
   ]
  }
 ],
 "metadata": {
  "kernelspec": {
   "display_name": "Python 3",
   "language": "python",
   "name": "python3"
  },
  "language_info": {
   "codemirror_mode": {
    "name": "ipython",
    "version": 3
   },
   "file_extension": ".py",
   "mimetype": "text/x-python",
   "name": "python",
   "nbconvert_exporter": "python",
   "pygments_lexer": "ipython3",
   "version": "3.9.2"
  },
  "orig_nbformat": 4,
  "vscode": {
   "interpreter": {
    "hash": "31f2aee4e71d21fbe5cf8b01ff0e069b9275f58929596ceb00d14d90e3e16cd6"
   }
  }
 },
 "nbformat": 4,
 "nbformat_minor": 2
}
