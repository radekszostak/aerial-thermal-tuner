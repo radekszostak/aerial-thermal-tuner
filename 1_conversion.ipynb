{
 "cells": [
  {
   "cell_type": "code",
   "execution_count": 1,
   "metadata": {},
   "outputs": [],
   "source": [
    "import struct\n",
    "import numpy as np\n",
    "from PIL import Image\n",
    "from pathlib import Path\n",
    "import os\n",
    "import shutil\n",
    "import traceback\n",
    "import sys\n",
    "import geopandas as gpd\n",
    "from tqdm import tqdm\n",
    "import subprocess\n",
    "import re\n",
    "from pyproj import transform, Proj\n",
    "from shapely import geometry, affinity\n",
    "from rasterio.control import GroundControlPoint\n",
    "from rasterio.transform import from_gcps\n",
    "import rioxarray as rxr\n",
    "from rioxarray.merge import merge_arrays\n",
    "from osgeo import gdal, osr; gdal.UseExceptions()\n",
    "import pickle\n",
    "from IPython.display import clear_output\n",
    "import warnings; warnings.filterwarnings(\"ignore\")\n",
    "import importlib\n",
    "def recreate_dir(path):\n",
    "    if os.path.exists(path):\n",
    "        shutil.rmtree(path)\n",
    "    os.makedirs(path)\n",
    "    return path\n",
    "\n",
    "def load_config(path):\n",
    "    spec = importlib.util.spec_from_file_location(\"CFG\", path)\n",
    "    CFG = importlib.util.module_from_spec(spec)\n",
    "    spec.loader.exec_module(CFG)\n",
    "    return CFG"
   ]
  },
  {
   "cell_type": "code",
   "execution_count": 2,
   "metadata": {},
   "outputs": [],
   "source": [
    "DATA_DIR = \"data/20221220_Sudol\"\n",
    "CFG = load_config(f\"{DATA_DIR}/config.py\").CONVERSION"
   ]
  },
  {
   "cell_type": "code",
   "execution_count": 3,
   "metadata": {},
   "outputs": [],
   "source": [
    "RJPG_DIR = f\"{DATA_DIR}/rjpg\"\n",
    "TIF_UNCAL_DIR = f\"{DATA_DIR}/tif_uncal\"\n",
    "TMP_DIR = f\"{DATA_DIR}/tmp\""
   ]
  },
  {
   "attachments": {},
   "cell_type": "markdown",
   "metadata": {},
   "source": [
    "# R-JPG to TIF"
   ]
  },
  {
   "cell_type": "code",
   "execution_count": 4,
   "metadata": {},
   "outputs": [
    {
     "name": "stdout",
     "output_type": "stream",
     "text": [
      "File 469/469\n",
      "DIRP API version number : 0x13\n",
      "DIRP API magic version  : d4c7dea\n",
      "R-JPEG file path : data/20221220_Sudol/rjpg/DJI_20221220113309_0075_T.JPG\n",
      "R-JPEG version information\n",
      "    R-JPEG version : 0x1\n",
      "    header version : 0x103\n",
      " curve LUT version : 0x1\n",
      "R-JPEG resolution size\n",
      "      image  width : 640\n",
      "      image height : 512\n",
      "Change distance from 5 to 25\n",
      "Change humidity from 70 to 93\n",
      "Change emissivity from 1 to 0.95\n",
      "Change reflection from 23 to 0\n",
      "Measurement: get params range:\n",
      "distance: [1,25]\n",
      "humidity: [20,100]\n",
      "emissivity: [0.1,1]\n",
      "reflection: [-40,500]\n",
      "Run action 1\n",
      "Save image file as : data/20221220_Sudol/tmp/bytes.raw\n",
      "Test done with return code 0\n",
      "    1 image files updated\n"
     ]
    },
    {
     "name": "stderr",
     "output_type": "stream",
     "text": [
      "Warning: [minor] Bad MakerNotes directory - data/20221220_Sudol/rjpg/DJI_20221220113309_0075_T.JPG\n"
     ]
    }
   ],
   "source": [
    "distance = round(CFG.DISTANCE)\n",
    "humidity = round(CFG.HUMIDITY)\n",
    "emissivity = round(CFG.EMISSIVITY,2)\n",
    "reflection = round(CFG.REFLECTION)\n",
    "\n",
    "assert os.path.exists(RJPG_DIR)\n",
    "recreate_dir(TIF_UNCAL_DIR)\n",
    "recreate_dir(TMP_DIR)\n",
    "# get list of .jpg files from rjpg directory\n",
    "file_list = list(filter(lambda x:x.endswith((\".jpg\", \".JPG\")), os.listdir(RJPG_DIR)))\n",
    "# iterate over files\n",
    "for i, file_name in enumerate(file_list):\n",
    "    clear_output(wait=True)\n",
    "    print(f\"File {i+1}/{len(file_list)}\")\n",
    "    #get raw bytes from rjpg file\n",
    "    os.system(  f\"./dji_irp -a measure \\\n",
    "                --measurefmt float32 \\\n",
    "                --distance {distance} \\\n",
    "                --humidity {humidity} \\\n",
    "                --emissivity {emissivity} \\\n",
    "                --reflection {reflection} \\\n",
    "                -s {RJPG_DIR}/{file_name} -o {TMP_DIR}/bytes.raw\")\n",
    "    img = Image.open(f\"{RJPG_DIR}/{file_name}\")\n",
    "    # decode temporary byte file to tif\n",
    "    arr = np.zeros(img.size[0]*img.size[1])\n",
    "    with open(f\"{TMP_DIR}/bytes.raw\", \"rb\") as f:\n",
    "        data = f.read()\n",
    "        format = '{:d}f'.format(len(data)//4)\n",
    "        arr=np.array(struct.unpack(format, data))\n",
    "    arr = arr.reshape(img.size[1],img.size[0])\n",
    "    im = Image.fromarray(arr)\n",
    "    tif_file_name = file_name.replace('.JPG','.tif')\n",
    "    im.save(f\"{TIF_UNCAL_DIR}/{tif_file_name}\")\n",
    "    # copy exif data from original file to new tif\n",
    "    os.system(f\"exiftool -tagsfromfile {RJPG_DIR}/{file_name} {TIF_UNCAL_DIR}/{tif_file_name} -overwrite_original_in_place\")"
   ]
  },
  {
   "cell_type": "markdown",
   "metadata": {},
   "source": [
    "# Cleanup"
   ]
  },
  {
   "cell_type": "code",
   "execution_count": 5,
   "metadata": {},
   "outputs": [],
   "source": [
    "#clear temporary files\n",
    "shutil.rmtree(TMP_DIR)"
   ]
  }
 ],
 "metadata": {
  "kernelspec": {
   "display_name": "Python 3",
   "language": "python",
   "name": "python3"
  },
  "language_info": {
   "codemirror_mode": {
    "name": "ipython",
    "version": 3
   },
   "file_extension": ".py",
   "mimetype": "text/x-python",
   "name": "python",
   "nbconvert_exporter": "python",
   "pygments_lexer": "ipython3",
   "version": "3.9.2"
  },
  "orig_nbformat": 4,
  "vscode": {
   "interpreter": {
    "hash": "31f2aee4e71d21fbe5cf8b01ff0e069b9275f58929596ceb00d14d90e3e16cd6"
   }
  }
 },
 "nbformat": 4,
 "nbformat_minor": 2
}
