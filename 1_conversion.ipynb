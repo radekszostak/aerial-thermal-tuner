{
 "cells": [
  {
   "cell_type": "code",
   "execution_count": 1,
   "metadata": {},
   "outputs": [],
   "source": [
    "import struct\n",
    "import numpy as np\n",
    "from PIL import Image\n",
    "from pathlib import Path\n",
    "import os\n",
    "import shutil\n",
    "import traceback\n",
    "import sys\n",
    "import geopandas as gpd\n",
    "from tqdm import tqdm\n",
    "import subprocess\n",
    "import re\n",
    "from pyproj import transform, Proj\n",
    "from shapely import geometry, affinity\n",
    "from rasterio.control import GroundControlPoint\n",
    "from rasterio.transform import from_gcps\n",
    "import rioxarray as rxr\n",
    "from rioxarray.merge import merge_arrays\n",
    "from osgeo import gdal, osr; gdal.UseExceptions()\n",
    "import pickle\n",
    "from IPython.display import clear_output\n",
    "import warnings; warnings.filterwarnings(\"ignore\")\n"
   ]
  },
  {
   "cell_type": "code",
   "execution_count": 2,
   "metadata": {},
   "outputs": [],
   "source": [
    "distance = 25\n",
    "humidity = 90\n",
    "emissivity = 0.95\n",
    "reflection = 0"
   ]
  },
  {
   "cell_type": "code",
   "execution_count": 3,
   "metadata": {},
   "outputs": [],
   "source": [
    "# directory structure prparation\n",
    "rjpg_dir = 'data/input/rjpg'\n",
    "tiff_dir = 'data/output/tiff'\n",
    "geotiff_dir = 'data/output/geotiff'\n",
    "footprints_path = \"data/output/footprints.geojson\"\n",
    "mosaic_path = \"data/output/mosaic.tiff\"\n",
    "tmp_dir = 'data/tmp'\n",
    "if os.path.exists(tmp_dir):\n",
    "    shutil.rmtree(tmp_dir)\n",
    "os.mkdir(tmp_dir)"
   ]
  },
  {
   "cell_type": "markdown",
   "metadata": {},
   "source": [
    "# R-JPG to TIFF"
   ]
  },
  {
   "cell_type": "code",
   "execution_count": 4,
   "metadata": {},
   "outputs": [
    {
     "name": "stdout",
     "output_type": "stream",
     "text": [
      "File 453/453\n",
      "DIRP API version number : 0x13\n",
      "DIRP API magic version  : d4c7dea\n",
      "R-JPEG file path : data/input/rjpg/DJI_20220324155129_0453_T.JPG\n",
      "R-JPEG version information\n",
      "    R-JPEG version : 0x1\n",
      "    header version : 0x103\n",
      " curve LUT version : 0x1\n",
      "R-JPEG resolution size\n",
      "      image  width : 640\n",
      "      image height : 512\n",
      "Change distance from 5 to 25\n",
      "Change humidity from 70 to 90\n",
      "Change emissivity from 1 to 0.95\n",
      "Change reflection from 23 to 0\n",
      "Measurement: get params range:\n",
      "distance: [1,25]\n",
      "humidity: [20,100]\n",
      "emissivity: [0.1,1]\n",
      "reflection: [-40,500]\n",
      "Run action 1\n",
      "Save image file as : data/tmp/bytes.raw\n",
      "Test done with return code 0\n",
      "    1 image files updated\n"
     ]
    },
    {
     "name": "stderr",
     "output_type": "stream",
     "text": [
      "Warning: [minor] Bad MakerNotes directory - data/input/rjpg/DJI_20220324155129_0453_T.JPG\n"
     ]
    }
   ],
   "source": [
    "distance = round(distance)\n",
    "humidity = round(humidity)\n",
    "emissivity = round(emissivity,2)\n",
    "reflection = round(reflection)\n",
    "\n",
    "assert os.path.exists(rjpg_dir)\n",
    "if os.path.exists(tiff_dir):\n",
    "    shutil.rmtree(tiff_dir)\n",
    "os.makedirs(tiff_dir)\n",
    "# get list of .jpg files from input directory\n",
    "file_list = list(filter(lambda x:x.endswith((\".jpg\", \".JPG\")), os.listdir(rjpg_dir)))\n",
    "# iterate over files\n",
    "for i, file_name in enumerate(file_list):\n",
    "    # get temporary raw byte file by DJI Thermal SDK\n",
    "    #clear cell output\n",
    "    clear_output(wait=True)\n",
    "    print(f\"File {i+1}/{len(file_list)}\")\n",
    "    os.system(  f\"./dji_irp -a measure \\\n",
    "                --measurefmt float32 \\\n",
    "                --distance {distance} \\\n",
    "                --humidity {humidity} \\\n",
    "                --emissivity {emissivity} \\\n",
    "                --reflection {reflection} \\\n",
    "                -s {rjpg_dir}/{file_name} -o {tmp_dir}/bytes.raw\")\n",
    "    # get image size\n",
    "    img = Image.open(f\"{rjpg_dir}/{file_name}\")\n",
    "    # decode temporary byte file to tiff\n",
    "    arr = np.zeros(img.size[0]*img.size[1])\n",
    "    with open(f\"{tmp_dir}/bytes.raw\", \"rb\") as f:\n",
    "        data = f.read()\n",
    "        format = '{:d}f'.format(len(data)//4)\n",
    "        arr=np.array(struct.unpack(format, data))\n",
    "    arr = arr.reshape(img.size[1],img.size[0])\n",
    "    im = Image.fromarray(arr)\n",
    "    im.save(f\"{tiff_dir}/{file_name}.tiff\")\n",
    "    # copy exif data from original file to new tiff\n",
    "    os.system(f\"exiftool -tagsfromfile {rjpg_dir}/{file_name} {tiff_dir}/{file_name}.tiff -overwrite_original_in_place\")"
   ]
  },
  {
   "cell_type": "markdown",
   "metadata": {},
   "source": [
    "# TIFF to GeoTIFF"
   ]
  },
  {
   "cell_type": "code",
   "execution_count": 5,
   "metadata": {},
   "outputs": [
    {
     "name": "stdout",
     "output_type": "stream",
     "text": [
      "Georeferencing photos...\n"
     ]
    },
    {
     "name": "stderr",
     "output_type": "stream",
     "text": [
      "100%|██████████| 453/453 [03:01<00:00,  2.50it/s]\n"
     ]
    }
   ],
   "source": [
    "assert os.path.exists(tiff_dir)\n",
    "if os.path.exists(geotiff_dir):\n",
    "    shutil.rmtree(geotiff_dir)\n",
    "os.makedirs(geotiff_dir)\n",
    "if os.path.exists(footprints_path):\n",
    "    os.remove(footprints_path)\n",
    "\n",
    "def dms2dec(dms):\n",
    "    d = float(dms[0])\n",
    "    m = float(dms[1])\n",
    "    s = float(dms[2])\n",
    "    return (d+m/60+s/3600)*(-1 if dms[3] in ['W', 'S'] else 1)\n",
    "\n",
    "print(\"Georeferencing photos...\")\n",
    "dfov_d = 40 #degrees\n",
    "hcoef = 640/819.5999023914046\n",
    "vcoef = 512/819.5999023914046\n",
    "names = sorted([name for name in os.listdir(tiff_dir) if name.endswith(\".tiff\")])\n",
    "footprints = gpd.GeoDataFrame(columns=[\"name\", \"geometry\"])\n",
    "for name in tqdm(names):\n",
    "    file_path = f\"{tiff_dir}/{name}\"\n",
    "    # get exif\n",
    "    exif = {}\n",
    "    lat, lon, yaw, alt = subprocess.run(['exiftool', '-GPSLatitude', '-GPSLongitude', '-GimbalYawDegree', '-RelativeAltitude', file_path], stdout=subprocess.PIPE).stdout.decode(\"utf-8\").splitlines()\n",
    "    lat = lat.split(\":\",1)[1].strip()\n",
    "    lat = [x.strip() for x in re.split('[deg\\'\"]', lat) if x]\n",
    "    lat = dms2dec(lat)\n",
    "    exif['lat'] = lat\n",
    "    lon = lon.split(\":\",1)[1].strip()\n",
    "    lon = [x.strip() for x in re.split('[deg\\'\"]', lon) if x]\n",
    "    lon = dms2dec(lon)\n",
    "    exif['lon'] = lon\n",
    "    yaw = yaw.split(\":\",1)[1].strip()\n",
    "    exif['yaw'] = float(yaw)\n",
    "    alt = alt.split(\":\",1)[1].strip()\n",
    "    exif['alt'] = float(alt)\n",
    "    #calculate polygon FOV\n",
    "    dfov_m = 2*exif['alt']*np.tan(dfov_d/2*np.pi/180)\n",
    "    vfov_m = vcoef*dfov_m\n",
    "    hfov_m = hcoef*dfov_m\n",
    "    x, y = transform(Proj(init='epsg:4326'), Proj(init='epsg:32634'), exif['lon'], exif['lat'])\n",
    "    polygon = geometry.Polygon([(x-hfov_m/2, y-vfov_m/2), (x+hfov_m/2, y-vfov_m/2), (x+hfov_m/2, y+vfov_m/2), (x-hfov_m/2, y+vfov_m/2)])\n",
    "    polygon = affinity.rotate(polygon,-exif['yaw'], origin=\"centroid\")\n",
    "    footprints = footprints.append({\"name\": name, \"geometry\": polygon}, ignore_index=True)\n",
    "    #convert tiff to geotiff using FOV\n",
    "    crs = 'epsg:32634'\n",
    "    raster = rxr.open_rasterio(f\"{tiff_dir}/{name}\")\n",
    "    arr = raster.values.squeeze()\n",
    "    tl = GroundControlPoint(0, 0, polygon.exterior.coords[3][0], polygon.exterior.coords[3][1])\n",
    "    tr = GroundControlPoint(0, arr.shape[1], polygon.exterior.coords[2][0], polygon.exterior.coords[2][1])\n",
    "    br = GroundControlPoint(arr.shape[0], arr.shape[1], polygon.exterior.coords[1][0], polygon.exterior.coords[1][1])\n",
    "    bl = GroundControlPoint(arr.shape[0], 0, polygon.exterior.coords[0][0], polygon.exterior.coords[0][1])\n",
    "    gcps = [tl, bl, br, tr]\n",
    "    trans = from_gcps(gcps)\n",
    "    raster = raster.rio.write_transform(trans)\n",
    "    raster = raster.rio.write_crs(crs)\n",
    "    raster.rio.to_raster(f\"{tmp_dir}/raster.tiff\", driver='GTiff')\n",
    "    gdal.Warp(f\"{geotiff_dir}/{name}\", f\"{tmp_dir}/raster.tiff\", format='GTiff', dstSRS=crs, dstNodata=-9999)\n",
    "footprints = footprints.set_crs('epsg:32634')\n",
    "footprints.to_file(footprints_path, driver=\"GeoJSON\")"
   ]
  },
  {
   "cell_type": "markdown",
   "metadata": {},
   "source": [
    "# GeoTIFF photos to mosaic"
   ]
  },
  {
   "cell_type": "code",
   "execution_count": 6,
   "metadata": {},
   "outputs": [
    {
     "name": "stdout",
     "output_type": "stream",
     "text": [
      "Loading...\n"
     ]
    },
    {
     "name": "stderr",
     "output_type": "stream",
     "text": [
      "100%|██████████| 453/453 [00:07<00:00, 60.67it/s]\n"
     ]
    },
    {
     "name": "stdout",
     "output_type": "stream",
     "text": [
      "Merging...\n"
     ]
    }
   ],
   "source": [
    "rasters = []\n",
    "print(\"Loading...\")\n",
    "for name in tqdm(names):\n",
    "    rasters.append(rxr.open_rasterio(os.path.join(geotiff_dir, name)))\n",
    "print(\"Merging...\")\n",
    "mosaic = merge_arrays(rasters)\n",
    "mosaic.rio.to_raster(mosaic_path, driver='GTiff')"
   ]
  },
  {
   "cell_type": "markdown",
   "metadata": {},
   "source": [
    "# Cleanup"
   ]
  },
  {
   "cell_type": "code",
   "execution_count": 7,
   "metadata": {},
   "outputs": [],
   "source": [
    "#clear temporary files\n",
    "shutil.rmtree(tmp_dir)"
   ]
  }
 ],
 "metadata": {
  "kernelspec": {
   "display_name": "Python 3.9.2 64-bit",
   "language": "python",
   "name": "python3"
  },
  "language_info": {
   "codemirror_mode": {
    "name": "ipython",
    "version": 3
   },
   "file_extension": ".py",
   "mimetype": "text/x-python",
   "name": "python",
   "nbconvert_exporter": "python",
   "pygments_lexer": "ipython3",
   "version": "3.9.2"
  },
  "orig_nbformat": 4,
  "vscode": {
   "interpreter": {
    "hash": "31f2aee4e71d21fbe5cf8b01ff0e069b9275f58929596ceb00d14d90e3e16cd6"
   }
  }
 },
 "nbformat": 4,
 "nbformat_minor": 2
}
