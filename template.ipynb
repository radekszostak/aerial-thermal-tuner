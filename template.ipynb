{
 "cells": [
  {
   "cell_type": "markdown",
   "id": "9574df83-861b-441e-a241-001feefde867",
   "metadata": {},
   "source": [
    "Mam prośbę o przygotowanie dwóch widgetów jupyterowskich."
   ]
  },
  {
   "cell_type": "code",
   "execution_count": 5,
   "id": "78c0c1f2-e38b-4e54-99a6-91c5e63a432a",
   "metadata": {},
   "outputs": [],
   "source": [
    "import geopandas as gpd\n",
    "from shapely.geometry import Point, Polygon\n",
    "from rasterstats import zonal_stats"
   ]
  },
  {
   "cell_type": "markdown",
   "id": "c9968d88-6422-444c-849c-6fb575af3a80",
   "metadata": {
    "tags": []
   },
   "source": [
    "# Wybieranie punktów na mapie\n"
   ]
  },
  {
   "cell_type": "code",
   "execution_count": 10,
   "id": "15312da7-9701-4893-8982-485ce62d4aec",
   "metadata": {},
   "outputs": [],
   "source": [
    "def define_reference_temperatures(geotiff_path) -> gpd.GeoDataFrame:\n",
    "    # 1. Wyśietl na mapie leaflet GeoTiff ze ścieżki.\n",
    "    # 2. Widget ma tylko mieć guziki do dodawania i usuwania punktów (bez poligonów itp., te mogą być ukryte). \n",
    "    # 3. Użytkownik tworzy dowolną ilość punktów na mapie.\n",
    "    # 4. Po każdorazowym utworzeniu punktu ma się wyświetlać popup z polem tekstowym do wpisywania liczby float z labelką \"Temperature\" do potwierdzenia guzikiem OK lub enterem.\n",
    "    # 5. W prawym dolnym rogu guzik \"CONTINUE\", który kończy działanie widgetu.\n",
    "    # 6. Zwrócony zostaje obiekt geopandas.GeoDataFrame z punktami i temperaturami każdego z nich.\n",
    "\n",
    "    example_gdf = gpd.GeoDataFrame(geometry=[Point(19.11274, 50.93590), Point(19.11458, 50.93773)], data={'temperature': [8.1, 7.9]}, crs='EPSG:4326')\n",
    "    return example_gdf"
   ]
  },
  {
   "cell_type": "code",
   "execution_count": 16,
   "id": "6a64b413-0289-4f04-b181-bcc60afbb909",
   "metadata": {},
   "outputs": [],
   "source": [
    "ref_points = define_reference_temperatures(\"data/output/mosaic.tiff\")\n",
    "footprints = gpd.read_file(\"data/output/footprints.geojson\")\n",
    "ref_points = ref_points.to_crs(footprints.crs)\n",
    "ref_points[\"footprints\"] = None\n",
    "for id_i, ref_point in ref_points.iterrows():\n",
    "    #get footprints that intersect with the reference point\n",
    "    id_js = []\n",
    "    for id_j, footprint in footprints.iterrows():\n",
    "        if footprint['geometry'].intersects(ref_point['geometry']):\n",
    "            id_js.append(id_j)\n",
    "    ref_points.at[id_i, \"footprints\"] = id_js"
   ]
  },
  {
   "cell_type": "markdown",
   "id": "386d0110-c2c6-4803-9862-4ebc6b998cd9",
   "metadata": {},
   "source": [
    "# Zaznaczanie poligonów na serii rastrów"
   ]
  },
  {
   "cell_type": "code",
   "execution_count": null,
   "id": "8e7f01b4",
   "metadata": {},
   "outputs": [],
   "source": [
    "def probe_temperature(polygons: gpd.GeoDataFrame, geotiff_path: str) -> float:\n",
    "    \"\"\"Probes temperature on raster for a given polygon using zonal statistics.\"\"\"\n",
    "    stats = zonal_stats(polygons['geometry'], geotiff_path, stats=\"mean\")\n",
    "    means = []\n",
    "    for stat in stats:\n",
    "        means.append(stat['mean'])\n",
    "    return sum(means)/len(means)\n",
    "\n",
    "def define_reference_areas(ref_points: gpd.GeoDataFrame):\n",
    "    footprints[\"offset\"] = None\n",
    "    # 1. Wyświetl mape leaflet\n",
    "    for id_i, ref_point in ref_points.iterrows():\n",
    "        for id_j in ref_point[\"footprints\"]:\n",
    "            footprint = footprints.loc[id_j]\n",
    "            geotiff_path = f\"data/output/geotiff/{footprint['name']}\"\n",
    "            # 2. Wyświetl na mapie leaflet GeoTIFF ze ścieżki geotiff_path\n",
    "            # 3. Widget ma tylko mieć guziki do dodawania i usuwania poligonów (bez punktów itp., te mogą być ukryte).\n",
    "            # 4. Użytkownik tworzy dowolną ilość poligonów na mapie. Tu brak popupów.\n",
    "            # 5. Użytkownik akceptuje poligony guzikiem \"CONTINUE\" w prawym dolnym rogu. Zwracane są w postaci geopandas.GeoDataFrame, np:\n",
    "            example_polygons = gpd.GeoDataFrame(geometry=[Polygon([(19.11274, 50.93590), (19.11458, 50.93773), (19.11458, 50.93590)])], crs='EPSG:4326')\n",
    "            temperature = probe_temperature(example_polygons, geotiff_path)\n",
    "            offset = temperature - ref_point['temperature']\n",
    "            footprints.at[id_j, \"offset\"] = offset #aktaulizacja offsetu dla danego footprintu\n",
    "            # 6. Geotiff i poligony zostają usunięte z mapy, by zrobić miejsce na następny podczas kolejnej iteracji.\n",
    "            "
   ]
  },
  {
   "cell_type": "code",
   "execution_count": 11,
   "id": "a54f29fe-5c03-43f8-bd68-fcffb4a292e2",
   "metadata": {},
   "outputs": [],
   "source": [
    "\n",
    "define_reference_areas(ref_points)"
   ]
  },
  {
   "cell_type": "code",
   "execution_count": null,
   "id": "b292d938",
   "metadata": {},
   "outputs": [],
   "source": []
  }
 ],
 "metadata": {
  "kernelspec": {
   "display_name": "Python 3.9.2 64-bit",
   "language": "python",
   "name": "python3"
  },
  "language_info": {
   "codemirror_mode": {
    "name": "ipython",
    "version": 3
   },
   "file_extension": ".py",
   "mimetype": "text/x-python",
   "name": "python",
   "nbconvert_exporter": "python",
   "pygments_lexer": "ipython3",
   "version": "3.9.2"
  },
  "vscode": {
   "interpreter": {
    "hash": "31f2aee4e71d21fbe5cf8b01ff0e069b9275f58929596ceb00d14d90e3e16cd6"
   }
  }
 },
 "nbformat": 4,
 "nbformat_minor": 5
}
