{
 "cells": [
  {
   "cell_type": "code",
   "execution_count": 12,
   "metadata": {},
   "outputs": [],
   "source": [
    "import pickle\n",
    "import numpy as np\n",
    "import pandas as pd\n",
    "import matplotlib.pyplot as plt"
   ]
  },
  {
   "cell_type": "code",
   "execution_count": 13,
   "metadata": {},
   "outputs": [],
   "source": [
    "#pickel load data/grodzisko_20230111/cache/calibration_pairs.pkl\n",
    "with open('data/grodzisko_20230111/cache/calibration_pairs.pkl', 'rb') as f:\n",
    "    pairs = pickle.load(f)"
   ]
  },
  {
   "cell_type": "code",
   "execution_count": 14,
   "metadata": {},
   "outputs": [],
   "source": [
    "#create dataframe from pairs[0] and pairs[1]\n",
    "df = pd.DataFrame({'i': pairs[0], 'j': pairs[1]})"
   ]
  },
  {
   "cell_type": "code",
   "execution_count": 15,
   "metadata": {},
   "outputs": [],
   "source": [
    "\n",
    "#get row where i=80, and j=134\n",
    "idx = df.loc[(df['i'] == 80) & (df['j'] == 134)].index[0]\n",
    "i_img = pairs[3][idx]\n",
    "j_img = pairs[4][idx]\n",
    "mask = pairs[5][idx]\n",
    "#set img values to nan where mask is 0\n",
    "i_img[mask == 0] = np.nan\n",
    "j_img[mask == 0] = np.nan\n",
    "diff = i_img-j_img\n",
    "#calculate common min max\n",
    "min_val = np.nanmin([i_img, j_img])\n",
    "max_val = np.nanmax([i_img, j_img])"
   ]
  },
  {
   "cell_type": "code",
   "execution_count": 38,
   "metadata": {},
   "outputs": [
    {
     "data": {
      "image/png": "[encoded data removed]",
      "text/plain": [
       "<Figure size 640x480 with 1 Axes>"
      ]
     },
     "metadata": {},
     "output_type": "display_data"
    }
   ],
   "source": [
    "#3 subplots\n",
    "#plot image at ax[0]\n",
    "plt.imshow(i_img, vmin=min_val, vmax=max_val, cmap='gray_r')\n",
    "\n",
    "#dont show axis\n",
    "plt.axis('off')\n",
    "# ax = plt.gca()\n",
    "# ax.set_xticks([0, i_img.shape[1]])\n",
    "# ax.set_yticks([0, i_img.shape[0]])\n",
    "# ax.xaxis.tick_top()\n",
    "# ax.tick_params(axis='both', which='both', length=0)\n",
    "# #remove borders\n",
    "# ax.spines['top'].set_visible(False)\n",
    "# ax.spines['right'].set_visible(False)\n",
    "# ax.spines['bottom'].set_visible(False)\n",
    "# ax.spines['left'].set_visible(False)\n",
    "#fit canvas to image\n",
    "plt.tight_layout()\n",
    "plt.savefig('pair_i.png', bbox_inches='tight', dpi=200, pad_inches=0)\n",
    "#clear plot\n",
    "plt.clf()\n",
    "plt.imshow(j_img, vmin=min_val, vmax=max_val, cmap='gray_r')\n",
    "plt.axis('off')\n",
    "plt.tight_layout()\n",
    "#save img with tight layout\n",
    "plt.savefig('pair_j.png', bbox_inches='tight', dpi=200, pad_inches=0)\n",
    "cbar = plt.colorbar()\n",
    "cbar.ax.set_title(\"°C\")\n",
    "plt.gca().remove()\n",
    "#set bigger letters\n",
    "plt.rcParams.update({'font.size': 15})\n",
    "#save colorbar\n",
    "plt.savefig('pair_colorbar.png', bbox_inches='tight', dpi=200, pad_inches=0)"
   ]
  },
  {
   "cell_type": "code",
   "execution_count": 36,
   "metadata": {},
   "outputs": [
    {
     "data": {
      "image/png": "[encoded data removed]",
      "text/plain": [
       "<Figure size 640x480 with 1 Axes>"
      ]
     },
     "metadata": {},
     "output_type": "display_data"
    }
   ],
   "source": [
    "plt.imshow(diff, cmap='gray_r')\n",
    "plt.axis('off')\n",
    "plt.tight_layout()\n",
    "plt.savefig('diff.png', bbox_inches='tight', dpi=200, pad_inches=0)\n",
    "cbar = plt.colorbar()\n",
    "cbar.ax.set_title(\"°C\")\n",
    "ax = plt.gca()\n",
    "ax.remove()\n",
    "plt.rcParams.update({'font.size': 15})\n",
    "plt.savefig('diff_colorbar.png', bbox_inches='tight', dpi=200, pad_inches=0)"
   ]
  },
  {
   "cell_type": "code",
   "execution_count": 19,
   "metadata": {},
   "outputs": [
    {
     "data": {
      "image/png": "[encoded data removed]",
      "text/plain": [
       "<Figure size 640x480 with 1 Axes>"
      ]
     },
     "metadata": {},
     "output_type": "display_data"
    }
   ],
   "source": [
    "#3 subplots\n",
    "#plot image at ax[0]\n",
    "plt.imshow(mask*(-1), cmap='gray')\n",
    "plt.axis('off')\n",
    "# ax = plt.gca()\n",
    "# ax.set_xticks([0, j_img.shape[1]])\n",
    "# ax.set_yticks([0, j_img.shape[0]])\n",
    "# ax.xaxis.tick_top()\n",
    "# ax.tick_params(axis='both', which='both', length=0)\n",
    "plt.tight_layout()\n",
    "plt.savefig('mask.png', bbox_inches='tight', dpi=200, pad_inches=0)"
   ]
  },
  {
   "cell_type": "code",
   "execution_count": 31,
   "metadata": {},
   "outputs": [
    {
     "data": {
      "image/png": "[encoded data removed]",
      "text/plain": [
       "<Figure size 640x480 with 1 Axes>"
      ]
     },
     "metadata": {},
     "output_type": "display_data"
    }
   ],
   "source": [
    "#ssave coorbar of xmin, xmax\n",
    "plt.imshow(np.zeros((1, 1)), vmin=min_val, vmax=max_val, cmap='gray_r')\n",
    "plt.axis('off')\n",
    "cbar = plt.colorbar()\n",
    "cbar.ax.set_title(\"°C\")\n",
    "ax = plt.gca()\n",
    "ax.remove()\n",
    "#set bigger letters\n",
    "plt.rcParams.update({'font.size': 15})\n",
    "#save colorbar\n",
    "plt.savefig('colorbar.png', bbox_inches='tight', dpi=200, pad_inches=0)"
   ]
  },
  {
   "cell_type": "code",
   "execution_count": null,
   "metadata": {},
   "outputs": [],
   "source": []
  }
 ],
 "metadata": {
  "kernelspec": {
   "display_name": "Python 3",
   "language": "python",
   "name": "python3"
  },
  "language_info": {
   "codemirror_mode": {
    "name": "ipython",
    "version": 3
   },
   "file_extension": ".py",
   "mimetype": "text/x-python",
   "name": "python",
   "nbconvert_exporter": "python",
   "pygments_lexer": "ipython3",
   "version": "3.9.2"
  },
  "orig_nbformat": 4,
  "vscode": {
   "interpreter": {
    "hash": "31f2aee4e71d21fbe5cf8b01ff0e069b9275f58929596ceb00d14d90e3e16cd6"
   }
  }
 },
 "nbformat": 4,
 "nbformat_minor": 2
}
