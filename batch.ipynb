{
 "cells": [
  {
   "cell_type": "code",
   "execution_count": null,
   "metadata": {},
   "outputs": [],
   "source": [
    "import glob\n",
    "import rioxarray as rxr\n",
    "import os\n",
    "import pandas as pd"
   ]
  },
  {
   "cell_type": "code",
   "execution_count": null,
   "metadata": {},
   "outputs": [],
   "source": [
    "geotiff_dir = \"data/output/geotiff\"\n",
    "geotiff_cal_dir = \"data/output/geotiff_cal\"\n",
    "calibration = pd.read_csv(\"data/output/calibration.csv\")"
   ]
  },
  {
   "cell_type": "code",
   "execution_count": null,
   "metadata": {},
   "outputs": [],
   "source": [
    "for row in calibration.itertuples():\n",
    "    print(row)\n",
    "    # Open the geotiff\n",
    "    geotiff = rxr.open_rasterio(f\"{geotiff_dir}/{row.name}\", masked=True)\n",
    "    geotiff.values = geotiff.values + row.offset\n",
    "    # Save the calibrated geotiff\n",
    "    geotiff.rio.to_raster(f\"{geotiff_cal_dir}/{row.name}\")"
   ]
  },
  {
   "cell_type": "code",
   "execution_count": null,
   "metadata": {},
   "outputs": [],
   "source": [
    "for input_path in glob(\"data/output/tiff_cal/*.tiff\"):\n",
    "    base_name = os.path.basename(input_path)\n",
    "    tiff_cal = rxr.open_rasterio(input_path)\n",
    "    geotiff = rxr.open_rasterio(f\"{geotiff_dir}/{base_name}\")\n",
    "    "
   ]
  }
 ],
 "metadata": {
  "kernelspec": {
   "display_name": "Python 3.9.5 64-bit",
   "language": "python",
   "name": "python3"
  },
  "language_info": {
   "name": "python",
   "version": "3.9.5"
  },
  "orig_nbformat": 4,
  "vscode": {
   "interpreter": {
    "hash": "11938c6bc6919ae2720b4d5011047913343b08a43b18698fd82dedb0d4417594"
   }
  }
 },
 "nbformat": 4,
 "nbformat_minor": 2
}
