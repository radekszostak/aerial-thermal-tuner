{
 "cells": [
  {
   "cell_type": "code",
   "execution_count": null,
   "id": "721f71ba-928a-4766-82ed-15b887b66d35",
   "metadata": {},
   "outputs": [],
   "source": [
    "import os\n",
    "import geopandas as gpd\n",
    "import subprocess\n",
    "import re\n",
    "import numpy as np\n",
    "import rioxarray as rxr\n",
    "import rasterio as rio\n",
    "from rasterio.transform import from_gcps\n",
    "from rasterio.control import GroundControlPoint\n",
    "from shapely import geometry\n",
    "from shapely import affinity\n",
    "from pyproj import transform, Proj\n",
    "import leafmap\n",
    "from tqdm import tqdm\n",
    "from PIL import Image"
   ]
  },
  {
   "cell_type": "code",
   "execution_count": null,
   "id": "2249e7b1-4111-4bda-9123-b0b28673f9a2",
   "metadata": {},
   "outputs": [],
   "source": [
    "def dms2dec(dms):\n",
    "    d = float(dms[0])\n",
    "    m = float(dms[1])\n",
    "    s = float(dms[2])\n",
    "    return (d+m/60+s/3600)*(-1 if dms[3] in ['W', 'S'] else 1)\n",
    "def img2rstr(in_file, out_file, geom, crs):\n",
    "    arr = np.array(Image.open(in_file))\n",
    "    # print(arr.shape[0],arr.shape[1])\n",
    "    tl = GroundControlPoint(0, 0, geom.exterior.coords[3][0], geom.exterior.coords[3][1])\n",
    "    tr = GroundControlPoint(0, arr.shape[1], geom.exterior.coords[2][0], geom.exterior.coords[2][1])\n",
    "    br = GroundControlPoint(arr.shape[0], arr.shape[1], geom.exterior.coords[1][0], geom.exterior.coords[1][1])\n",
    "    bl = GroundControlPoint(arr.shape[0], 0, geom.exterior.coords[0][0], geom.exterior.coords[0][1])\n",
    "    gcps = [tl, bl, br, tr]\n",
    "    trans = from_gcps(gcps)\n",
    "    raster = rio.open(out_file, 'w', driver='GTiff',\n",
    "                            height = arr.shape[0], width = arr.shape[1],\n",
    "                            count=1, dtype=str(arr.dtype),\n",
    "                            crs=crs,\n",
    "                            transform=trans)\n",
    "    raster.write(arr, 1)\n",
    "    raster.close()\n"
   ]
  },
  {
   "cell_type": "code",
   "execution_count": null,
   "id": "21c74679",
   "metadata": {},
   "outputs": [],
   "source": [
    "tif_dir = \"data/Photos\"\n",
    "geotif_dir = \"data/geotif\"\n",
    "os.makedirs(geotif_dir, exist_ok= True)"
   ]
  },
  {
   "cell_type": "code",
   "execution_count": null,
   "id": "26168bdc-7636-41a1-9836-0223eb75507c",
   "metadata": {},
   "outputs": [],
   "source": [
    "names = sorted([name for name in os.listdir(tif_dir) if name.endswith(\".tiff\")])"
   ]
  },
  {
   "cell_type": "code",
   "execution_count": null,
   "id": "92c17bc5",
   "metadata": {},
   "outputs": [],
   "source": [
    "def get_exif(file_path):\n",
    "    exif = {}\n",
    "    lat, lon, yaw, alt = subprocess.run(['exiftool', '-GPSLatitude', '-GPSLongitude', '-GimbalYawDegree', '-RelativeAltitude', file_path], stdout=subprocess.PIPE).stdout.decode(\"utf-8\").splitlines()\n",
    "    lat = lat.split(\":\",1)[1].strip()\n",
    "    lat = [x.strip() for x in re.split('[deg\\'\"]', lat) if x]\n",
    "    lat = dms2dec(lat)\n",
    "    exif['lat'] = lat\n",
    "    lon = lon.split(\":\",1)[1].strip()\n",
    "    lon = [x.strip() for x in re.split('[deg\\'\"]', lon) if x]\n",
    "    lon = dms2dec(lon)\n",
    "    exif['lon'] = lon\n",
    "    yaw = yaw.split(\":\",1)[1].strip()\n",
    "    exif['yaw'] = float(yaw)\n",
    "    alt = alt.split(\":\",1)[1].strip()\n",
    "    exif['alt'] = float(alt)\n",
    "    return exif"
   ]
  },
  {
   "cell_type": "code",
   "execution_count": null,
   "id": "f25080ee",
   "metadata": {},
   "outputs": [],
   "source": [
    "dfov_d = 40 #degrees\n",
    "hcoef = 640/819.5999023914046\n",
    "vcoef = 512/819.5999023914046\n",
    "for name in tqdm(names):\n",
    "    exif = get_exif(f\"{tif_dir}/{name}\")\n",
    "    dfov_m = 2*exif['alt']*np.tan(dfov_d/2*np.pi/180)\n",
    "    vfov_m = vcoef*dfov_m\n",
    "    hfov_m = hcoef*dfov_m\n",
    "    x, y = transform(Proj(init='epsg:4326'), Proj(init='epsg:32634'), exif['lon'], exif['lat'])\n",
    "    polygon = geometry.Polygon([(x-hfov_m/2, y-vfov_m/2), (x+hfov_m/2, y-vfov_m/2), (x+hfov_m/2, y+vfov_m/2), (x-hfov_m/2, y+vfov_m/2)])\n",
    "    polygon = affinity.rotate(polygon,-exif['yaw'], origin=\"centroid\")\n",
    "    img2rstr(f\"{tif_dir}/{name}\", f\"{geotif_dir}/{name}\", polygon, 'epsg:32634')"
   ]
  },
  {
   "cell_type": "code",
   "execution_count": null,
   "id": "97edc33f",
   "metadata": {},
   "outputs": [],
   "source": [
    "m = leafmap.Map()\n",
    "m.add_raster(\"data/ortho.tif\", layer_name='bg')\n",
    "for name in os.listdir(geotif_dir):\n",
    "    if name.endswith(\".tiff\"):\n",
    "        m.add_raster(f\"{geotif_dir}/{name}\", layer_name=name) \n",
    "m"
   ]
  },
  {
   "cell_type": "code",
   "execution_count": null,
   "id": "e3dc8ac3",
   "metadata": {},
   "outputs": [],
   "source": []
  }
 ],
 "metadata": {
  "kernelspec": {
   "display_name": "Python 3 (ipykernel)",
   "language": "python",
   "name": "python3"
  },
  "language_info": {
   "codemirror_mode": {
    "name": "ipython",
    "version": 3
   },
   "file_extension": ".py",
   "mimetype": "text/x-python",
   "name": "python",
   "nbconvert_exporter": "python",
   "pygments_lexer": "ipython3",
   "version": "3.9.2"
  },
  "vscode": {
   "interpreter": {
    "hash": "31f2aee4e71d21fbe5cf8b01ff0e069b9275f58929596ceb00d14d90e3e16cd6"
   }
  }
 },
 "nbformat": 4,
 "nbformat_minor": 5
}
