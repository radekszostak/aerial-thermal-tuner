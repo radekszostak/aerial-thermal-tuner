{
 "cells": [
  {
   "cell_type": "code",
   "execution_count": 1,
   "id": "721f71ba-928a-4766-82ed-15b887b66d35",
   "metadata": {},
   "outputs": [],
   "source": [
    "import os\n",
    "import geopandas as gpd\n",
    "import subprocess\n",
    "import re\n",
    "import numpy as np\n",
    "import rioxarray as rxr\n",
    "import rasterio as rio\n",
    "from rasterio.transform import from_gcps\n",
    "from rasterio.control import GroundControlPoint\n",
    "from shapely import geometry\n",
    "from shapely import affinity\n",
    "from pyproj import transform, Proj\n",
    "import leafmap\n",
    "from tqdm import tqdm\n",
    "from PIL import Image\n",
    "import matplotlib.pyplot as plt\n",
    "import pickle"
   ]
  },
  {
   "cell_type": "code",
   "execution_count": 2,
   "id": "21c74679",
   "metadata": {},
   "outputs": [],
   "source": [
    "tif_dir = \"data/Photos\"\n",
    "geotif_dir = \"data/geotif\"\n",
    "cal_dir = \"data/calibrated\"\n",
    "os.makedirs(geotif_dir, exist_ok= True)\n",
    "os.makedirs(cal_dir, exist_ok= True)\n",
    "use_cache = True"
   ]
  },
  {
   "cell_type": "code",
   "execution_count": 3,
   "id": "2249e7b1-4111-4bda-9123-b0b28673f9a2",
   "metadata": {},
   "outputs": [],
   "source": [
    "def get_exif(file_path):\n",
    "    exif = {}\n",
    "    lat, lon, yaw, alt = subprocess.run(['exiftool', '-GPSLatitude', '-GPSLongitude', '-GimbalYawDegree', '-RelativeAltitude', file_path], stdout=subprocess.PIPE).stdout.decode(\"utf-8\").splitlines()\n",
    "    lat = lat.split(\":\",1)[1].strip()\n",
    "    lat = [x.strip() for x in re.split('[deg\\'\"]', lat) if x]\n",
    "    lat = dms2dec(lat)\n",
    "    exif['lat'] = lat\n",
    "    lon = lon.split(\":\",1)[1].strip()\n",
    "    lon = [x.strip() for x in re.split('[deg\\'\"]', lon) if x]\n",
    "    lon = dms2dec(lon)\n",
    "    exif['lon'] = lon\n",
    "    yaw = yaw.split(\":\",1)[1].strip()\n",
    "    exif['yaw'] = float(yaw)\n",
    "    alt = alt.split(\":\",1)[1].strip()\n",
    "    exif['alt'] = float(alt)\n",
    "    return exif\n",
    "def dms2dec(dms):\n",
    "    d = float(dms[0])\n",
    "    m = float(dms[1])\n",
    "    s = float(dms[2])\n",
    "    return (d+m/60+s/3600)*(-1 if dms[3] in ['W', 'S'] else 1)\n",
    "def img2raster(in_file, out_file, geom, crs):\n",
    "    arr = np.array(Image.open(in_file))\n",
    "    tl = GroundControlPoint(0, 0, geom.exterior.coords[3][0], geom.exterior.coords[3][1])\n",
    "    tr = GroundControlPoint(0, arr.shape[1], geom.exterior.coords[2][0], geom.exterior.coords[2][1])\n",
    "    br = GroundControlPoint(arr.shape[0], arr.shape[1], geom.exterior.coords[1][0], geom.exterior.coords[1][1])\n",
    "    bl = GroundControlPoint(arr.shape[0], 0, geom.exterior.coords[0][0], geom.exterior.coords[0][1])\n",
    "    gcps = [tl, bl, br, tr]\n",
    "    trans = from_gcps(gcps)\n",
    "    raster = rio.open(out_file, 'w', driver='GTiff',\n",
    "                            height = arr.shape[0], width = arr.shape[1],\n",
    "                            count=1, dtype=str(arr.dtype),\n",
    "                            crs=crs,\n",
    "                            transform=trans)\n",
    "    raster.write(arr, 1)\n",
    "    raster.close()\n",
    "def remove_outliers(raster):\n",
    "    src_std = raster.std(dim=['x', 'y']).item()\n",
    "    src_mean = raster.mean(dim=['x', 'y']).item()\n",
    "    return raster.where(~((raster < src_mean - 3*src_std) | (raster > src_mean + 3*src_std)))"
   ]
  },
  {
   "cell_type": "code",
   "execution_count": 4,
   "id": "26168bdc-7636-41a1-9836-0223eb75507c",
   "metadata": {},
   "outputs": [],
   "source": [
    "names = sorted([name for name in os.listdir(tif_dir) if name.endswith(\".tiff\")])"
   ]
  },
  {
   "cell_type": "code",
   "execution_count": 5,
   "id": "f25080ee",
   "metadata": {},
   "outputs": [],
   "source": [
    "if use_cache:\n",
    "    polygons = pickle.load(open(\"data/polygons.pkl\", \"rb\"))\n",
    "else:\n",
    "    print(\"Georeferencing photos...\")\n",
    "    dfov_d = 40 #degrees\n",
    "    hcoef = 640/819.5999023914046\n",
    "    vcoef = 512/819.5999023914046\n",
    "    polygons = gpd.GeoDataFrame(columns=[\"name\", \"geometry\"])\n",
    "    for name in tqdm(names):\n",
    "        exif = get_exif(f\"{tif_dir}/{name}\")\n",
    "        dfov_m = 2*exif['alt']*np.tan(dfov_d/2*np.pi/180)\n",
    "        vfov_m = vcoef*dfov_m\n",
    "        hfov_m = hcoef*dfov_m\n",
    "        x, y = transform(Proj(init='epsg:4326'), Proj(init='epsg:32634'), exif['lon'], exif['lat'])\n",
    "        polygon = geometry.Polygon([(x-hfov_m/2, y-vfov_m/2), (x+hfov_m/2, y-vfov_m/2), (x+hfov_m/2, y+vfov_m/2), (x-hfov_m/2, y+vfov_m/2)])\n",
    "        polygon = affinity.rotate(polygon,-exif['yaw'], origin=\"centroid\")\n",
    "        polygons = polygons.append({\"name\": name, \"geometry\": polygon}, ignore_index=True)\n",
    "        img2raster(f\"{tif_dir}/{name}\", f\"{geotif_dir}/{name}\", polygon, 'epsg:32634')\n",
    "    polygons = polygons.set_crs('epsg:32634')\n",
    "\n",
    "    print(\"Detecting intersections...\")\n",
    "    inters = []\n",
    "    for id_i, row_i in tqdm(polygons.iterrows()):\n",
    "        inter = []\n",
    "        for id_j, row_j in polygons.iterrows():\n",
    "            if id_i == id_j:\n",
    "                continue\n",
    "            if row_i['geometry'].intersects(row_j['geometry']):\n",
    "                inter.append({\"id\": id_j,\"area\": row_i['geometry'].intersection(row_j['geometry']).area})\n",
    "        inter = sorted(inter, key=lambda k: k['area'], reverse=True)\n",
    "        inters.append(inter)\n",
    "    polygons['intersect'] = inters\n",
    "    \n",
    "    pickle.dump(polygons, open(\"data/polygons.pkl\", \"wb\"))"
   ]
  },
  {
   "cell_type": "code",
   "execution_count": 12,
   "id": "9a30c466",
   "metadata": {},
   "outputs": [
    {
     "name": "stdout",
     "output_type": "stream",
     "text": [
      "Calibrating pairs...\n"
     ]
    }
   ],
   "source": [
    "print(\"Calibrating pairs...\")\n",
    "polygons[\"calibrated\"] = False\n",
    "\n",
    "src_id = 10\n",
    "src = polygons.iloc[src_id]\n",
    "src_raster = rxr.open_rasterio(f\"{geotif_dir}/{src['name']}\", masked=True).rio.clip([dst['geometry']])\n",
    "src_raster.rio.to_raster(f\"{cal_dir}/{src['name']}\")\n",
    "polygons.at[src_id,\"calibrated\"] = True\n",
    "\n",
    "#find uncalibrated image wchich is most overlaping with calibrated one\n",
    "polygons[\"curr_max_inter_calib\"] = np.nan\n",
    "for id_i, row_i in tqdm(polygons.iterrows()):\n",
    "    if row_i['calibrated']:\n",
    "        continue\n",
    "    for inter in row_i['intersect']:\n",
    "        if polygons.iloc[inter['id']]['calibrated']:\n",
    "            dst_id = inter['id']\n",
    "            dst = polygons.iloc[dst_id]\n",
    "            break\n",
    "    break\n",
    "dst_id = src['intersect'][0]['id']\n",
    "dst = polygons.iloc[dst_id]\n",
    "\n",
    "\n",
    "\n",
    "dst_raster = rxr.open_rasterio(f\"{geotif_dir}/{dst['name']}\", masked=True).rio.clip([src['geometry']])\n",
    "delta = src_raster - dst_raster\n",
    "delta = remove_outliers(delta).mean().item()\n",
    "(dst_raster+delta).rio.to_raster(f\"{cal_dir}/{dst['name']}\")\n",
    "polygons.at[dst_id,\"calibrated\"] = True\n"
   ]
  },
  {
   "cell_type": "code",
   "execution_count": 7,
   "id": "97edc33f",
   "metadata": {},
   "outputs": [
    {
     "ename": "TypeError",
     "evalue": "list indices must be integers or slices, not str",
     "output_type": "error",
     "traceback": [
      "\u001b[0;31m---------------------------------------------------------------------------\u001b[0m",
      "\u001b[0;31mTypeError\u001b[0m                                 Traceback (most recent call last)",
      "Cell \u001b[0;32mIn [7], line 3\u001b[0m\n\u001b[1;32m      1\u001b[0m m \u001b[38;5;241m=\u001b[39m leafmap\u001b[38;5;241m.\u001b[39mMap()\n\u001b[1;32m      2\u001b[0m m\u001b[38;5;241m.\u001b[39madd_raster(\u001b[38;5;124m\"\u001b[39m\u001b[38;5;124mdata/ortho.tif\u001b[39m\u001b[38;5;124m\"\u001b[39m, layer_name\u001b[38;5;241m=\u001b[39m\u001b[38;5;124m'\u001b[39m\u001b[38;5;124mbg\u001b[39m\u001b[38;5;124m'\u001b[39m)\n\u001b[0;32m----> 3\u001b[0m \u001b[38;5;28;01mfor\u001b[39;00m i \u001b[38;5;129;01min\u001b[39;00m \u001b[43mpolygons\u001b[49m\u001b[38;5;241;43m.\u001b[39;49m\u001b[43miloc\u001b[49m\u001b[43m[\u001b[49m\u001b[38;5;241;43m0\u001b[39;49m\u001b[43m]\u001b[49m\u001b[43m[\u001b[49m\u001b[38;5;124;43m'\u001b[39;49m\u001b[38;5;124;43mintersect\u001b[39;49m\u001b[38;5;124;43m'\u001b[39;49m\u001b[43m]\u001b[49m\u001b[43m[\u001b[49m\u001b[38;5;124;43m\"\u001b[39;49m\u001b[38;5;124;43mid\u001b[39;49m\u001b[38;5;124;43m\"\u001b[39;49m\u001b[43m]\u001b[49m:\n\u001b[1;32m      4\u001b[0m     m\u001b[38;5;241m.\u001b[39madd_raster(\u001b[38;5;124mf\u001b[39m\u001b[38;5;124m\"\u001b[39m\u001b[38;5;132;01m{\u001b[39;00mgeotif_dir\u001b[38;5;132;01m}\u001b[39;00m\u001b[38;5;124m/\u001b[39m\u001b[38;5;132;01m{\u001b[39;00mpolygons\u001b[38;5;241m.\u001b[39miloc[i][\u001b[38;5;124m'\u001b[39m\u001b[38;5;124mname\u001b[39m\u001b[38;5;124m'\u001b[39m]\u001b[38;5;132;01m}\u001b[39;00m\u001b[38;5;124m\"\u001b[39m, layer_name\u001b[38;5;241m=\u001b[39mpolygons\u001b[38;5;241m.\u001b[39miloc[i][\u001b[38;5;124m'\u001b[39m\u001b[38;5;124mname\u001b[39m\u001b[38;5;124m'\u001b[39m])\n\u001b[1;32m      5\u001b[0m m\n",
      "\u001b[0;31mTypeError\u001b[0m: list indices must be integers or slices, not str"
     ]
    }
   ],
   "source": [
    "# m = leafmap.Map()\n",
    "# m.add_raster(\"data/ortho.tif\", layer_name='bg')\n",
    "# for i in polygons.iloc[0]['intersect'][\"id\"]:\n",
    "#     m.add_raster(f\"{geotif_dir}/{polygons.iloc[i]['name']}\", layer_name=polygons.iloc[i]['name'])\n",
    "# m"
   ]
  },
  {
   "cell_type": "code",
   "execution_count": null,
   "id": "e3dc8ac3",
   "metadata": {},
   "outputs": [],
   "source": []
  }
 ],
 "metadata": {
  "kernelspec": {
   "display_name": "Python 3 (ipykernel)",
   "language": "python",
   "name": "python3"
  },
  "language_info": {
   "codemirror_mode": {
    "name": "ipython",
    "version": 3
   },
   "file_extension": ".py",
   "mimetype": "text/x-python",
   "name": "python",
   "nbconvert_exporter": "python",
   "pygments_lexer": "ipython3",
   "version": "3.9.2"
  },
  "vscode": {
   "interpreter": {
    "hash": "31f2aee4e71d21fbe5cf8b01ff0e069b9275f58929596ceb00d14d90e3e16cd6"
   }
  }
 },
 "nbformat": 4,
 "nbformat_minor": 5
}
