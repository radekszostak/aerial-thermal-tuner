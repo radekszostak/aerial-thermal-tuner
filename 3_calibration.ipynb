{
 "cells": [
  {
   "cell_type": "code",
   "execution_count": 12,
   "metadata": {},
   "outputs": [],
   "source": [
    "import os\n",
    "from datetime import datetime\n",
    "import shutil\n",
    "from glob import glob\n",
    "import rioxarray as rxr\n",
    "from rioxarray.exceptions import NoDataInBounds\n",
    "import rasterio.features\n",
    "import numpy as np\n",
    "import geopandas as gpd\n",
    "from shapely.geometry import Polygon\n",
    "from tqdm import tqdm\n",
    "import matplotlib.pyplot as plt\n",
    "from IPython import display"
   ]
  },
  {
   "cell_type": "code",
   "execution_count": 13,
   "metadata": {},
   "outputs": [
    {
     "name": "stderr",
     "output_type": "stream",
     "text": [
      "Starting procedure\n"
     ]
    }
   ],
   "source": [
    "#configure logging to file\n",
    "import logging\n",
    "log_path = f\"data/output/logs/calibration_{datetime.now().strftime('%d%m%Y%H%M%S')}.log\"\n",
    "os.makedirs(os.path.dirname(log_path), exist_ok=True)\n",
    "logging.basicConfig(filename=log_path,level=logging.INFO, format='%(asctime)s %(levelname)-8s %(message)s', datefmt='%Y-%m-%d %H:%M:%S')\n",
    "logger = logging.getLogger(__name__)\n",
    "logger.handlers.clear()\n",
    "logger.addHandler(logging.StreamHandler())\n",
    "logger.info(\"Starting procedure\")"
   ]
  },
  {
   "cell_type": "code",
   "execution_count": 14,
   "metadata": {},
   "outputs": [],
   "source": [
    "PADDING = 1 #meters\n",
    "CRS = \"EPSG:32634\"\n",
    "TMP_DIR = \"tmp\"\n",
    "if os.path.exists(TMP_DIR):\n",
    "    shutil.rmtree(TMP_DIR)\n",
    "os.mkdir(TMP_DIR)\n",
    "TIFF_DIR = \"data/output/tiff\"\n",
    "assert os.path.exists(TIFF_DIR), \"tiff_dir does not exist. Please run 1_conversion.ipynb first.\"\n",
    "GEOTIFF_OPTIM_DIR = \"data/output/geotiff_optim\"\n",
    "assert os.path.exists(GEOTIFF_OPTIM_DIR), \"geotiff_dir does not exist. Please run 1_conversion.ipynb first.\"\n",
    "TIFF_CAL_DIR = \"data/output/tiff_cal\"\n",
    "GEOTIFF_CAL_DIR = \"data/output/geotiff_cal\""
   ]
  },
  {
   "cell_type": "code",
   "execution_count": 15,
   "metadata": {},
   "outputs": [
    {
     "name": "stderr",
     "output_type": "stream",
     "text": [
      "Starting from scratch\n",
      "Clearing data/output/tiff_cal\n",
      "Clearing data/output/geotiff_cal\n"
     ]
    }
   ],
   "source": [
    "logger.info(\"Starting from scratch\")\n",
    "logger.info(f\"Clearing {TIFF_CAL_DIR}\")\n",
    "if os.path.exists(TIFF_CAL_DIR):\n",
    "    shutil.rmtree(TIFF_CAL_DIR)\n",
    "os.makedirs(TIFF_CAL_DIR)\n",
    "logger.info(f\"Clearing {GEOTIFF_CAL_DIR}\")\n",
    "if os.path.exists(GEOTIFF_CAL_DIR):\n",
    "    shutil.rmtree(GEOTIFF_CAL_DIR)\n",
    "os.makedirs(GEOTIFF_CAL_DIR)"
   ]
  },
  {
   "cell_type": "code",
   "execution_count": 16,
   "metadata": {},
   "outputs": [
    {
     "name": "stderr",
     "output_type": "stream",
     "text": [
      "Reading footprints\n",
      "100%|██████████| 453/453 [01:12<00:00,  6.27it/s]\n"
     ]
    }
   ],
   "source": [
    "logger.info(\"Reading footprints\")\n",
    "geometries = []\n",
    "names = []\n",
    "for path in tqdm(glob(f\"{GEOTIFF_OPTIM_DIR}/*.tiff\")):\n",
    "    raster = rxr.open_rasterio(path)\n",
    "    footprints = rasterio.features.shapes((raster != raster.rio.nodata).values.astype(np.int16), transform=raster.rio.transform())\n",
    "    footprints = [Polygon(geom[\"coordinates\"][0]).simplify(10).buffer(-PADDING) for geom, colval in footprints if colval == 1]\n",
    "    assert len(footprints) == 1, \"More than one footprint found\"\n",
    "    names.append(os.path.basename(path))\n",
    "    geometries.append(footprints[0])\n",
    "footprints = gpd.GeoDataFrame({\"name\": names, \"geometry\": geometries})"
   ]
  },
  {
   "cell_type": "code",
   "execution_count": 17,
   "metadata": {},
   "outputs": [
    {
     "name": "stderr",
     "output_type": "stream",
     "text": [
      "Detecting intersections\n",
      "453it [00:04, 109.43it/s]\n"
     ]
    }
   ],
   "source": [
    "logger.info(\"Detecting intersections\")\n",
    "inters = []\n",
    "geometries_buf = []\n",
    "for i, i_geom in tqdm(footprints[\"geometry\"].items()):\n",
    "    inter = []\n",
    "    for j, j_geom in footprints[\"geometry\"].items():\n",
    "        if i == j:\n",
    "            continue\n",
    "        if i_geom.intersects(j_geom):\n",
    "            area = i_geom.intersection(j_geom).area\n",
    "            inter.append({\"id\": j,\"area\": area})\n",
    "    inter = sorted(inter, key=lambda k: k['area'], reverse=True)\n",
    "    inters.append(inter)\n",
    "    geometries_buf.append(i_geom)\n",
    "footprints['geometry'] = geometries_buf\n",
    "footprints['intersect'] = inters"
   ]
  },
  {
   "cell_type": "code",
   "execution_count": 18,
   "metadata": {},
   "outputs": [
    {
     "name": "stderr",
     "output_type": "stream",
     "text": [
      "Initializing columns\n"
     ]
    }
   ],
   "source": [
    "logger.info(\"Initializing columns\")\n",
    "footprints['std']=None\n",
    "footprints['weight']=None\n",
    "footprints['offset']=None\n",
    "footprints['calibrated']=False"
   ]
  },
  {
   "cell_type": "code",
   "execution_count": 19,
   "metadata": {},
   "outputs": [
    {
     "name": "stderr",
     "output_type": "stream",
     "text": [
      "Setting reference point and refrence photo\n"
     ]
    }
   ],
   "source": [
    "logger.info(\"Setting reference point and refrence photo\")\n",
    "# name = \"DJI_20221220111743_0190_T.JPG.tiff\"\n",
    "# offset = 2.0-4.8\n",
    "name = \"DJI_20220324154305_0287_T.JPG.tiff\"\n",
    "offset = 8.0-2.75\n",
    "raster = rxr.open_rasterio(os.path.join(GEOTIFF_OPTIM_DIR, name), masked=True)\n",
    "raster.values = raster.values + offset\n",
    "raster.rio.to_raster(os.path.join(GEOTIFF_CAL_DIR, name))\n",
    "footprints.loc[footprints['name'] == name, 'offset'] = offset\n",
    "footprints.loc[footprints['name'] == name, 'calibrated'] = True\n",
    "footprints.loc[footprints['name'] == name, 'std'] = 0.0\n",
    "footprints.loc[footprints['name'] == name, 'weight'] = None\n",
    "centroid = footprints.loc[footprints['name'] == name, 'geometry'].centroid.values[0]\n",
    "ref_points = gpd.GeoDataFrame(geometry=[centroid], data={'temperature': [8.0]}, crs='EPSG:32634')"
   ]
  },
  {
   "cell_type": "code",
   "execution_count": 20,
   "metadata": {},
   "outputs": [
    {
     "name": "stderr",
     "output_type": "stream",
     "text": [
      "Setting the calibration order\n",
      "453it [00:00, 2780.54it/s]\n"
     ]
    }
   ],
   "source": [
    "logger.info(\"Setting the calibration order\")\n",
    "id_dists = []\n",
    "for id_i, row_i in tqdm(footprints.iterrows()):\n",
    "    dists = []\n",
    "    for point in ref_points['geometry']:\n",
    "        dists.append(row_i['geometry'].centroid.distance(point))\n",
    "    dist = min(dists)\n",
    "    if not row_i['calibrated']:\n",
    "        id_dists.append({\"id\": id_i, \"dist\": dist})\n",
    "id_dists = sorted(id_dists, key=lambda k: k['dist'])"
   ]
  },
  {
   "cell_type": "code",
   "execution_count": 21,
   "metadata": {},
   "outputs": [
    {
     "name": "stdout",
     "output_type": "stream",
     "text": [
      "0.9517867149845024\n"
     ]
    },
    {
     "data": {
      "image/png": "[encoded data removed]",
      "text/plain": [
       "<Figure size 1000x400 with 2 Axes>"
      ]
     },
     "metadata": {},
     "output_type": "display_data"
    },
    {
     "name": "stderr",
     "output_type": "stream",
     "text": [
      "/usr/local/lib/python3.9/dist-packages/rioxarray/_io.py:1111: NotGeoreferencedWarning: Dataset has no geotransform, gcps, or rpcs. The identity matrix will be returned.\n",
      "  warnings.warn(str(rio_warning.message), type(rio_warning.message))  # type: ignore\n",
      "/usr/local/lib/python3.9/dist-packages/rasterio/__init__.py:314: NotGeoreferencedWarning: The given matrix is equal to Affine.identity or its flipped counterpart. GDAL may ignore this matrix and save no geotransform without raising an error. This behavior is somewhat driver-specific.\n",
      "  dataset = writer(\n",
      "Warning: [minor] Bad format (29551) for MakerNotes entry 0 - data/output/tiff/DJI_20220324154736_0375_T.JPG.tiff\n",
      "Calibrated:: offset: 10.235070359764965, weight: 0.9517867149845024\n",
      "100%|██████████| 452/452 [51:46<00:00,  6.87s/it]"
     ]
    },
    {
     "name": "stdout",
     "output_type": "stream",
     "text": [
      "    1 image files updated\n"
     ]
    },
    {
     "name": "stderr",
     "output_type": "stream",
     "text": [
      "\n"
     ]
    }
   ],
   "source": [
    "logger.info(\"Calibrating pairs\")\n",
    "for id_dist in tqdm(id_dists):\n",
    "    dst_id = id_dist['id']\n",
    "    dst = footprints.iloc[dst_id]\n",
    "    if dst['calibrated']:\n",
    "        logger.info(f\"{dst['name']} already calibrated, skipping\")\n",
    "        continue\n",
    "    dst_raster = rxr.open_rasterio(f\"{GEOTIFF_OPTIM_DIR}/{dst['name']}\", masked=True)\n",
    "    offsets = []\n",
    "    weights = []\n",
    "    logger.info(f\"\")\n",
    "    logger.info(f\"Calibrating:: dst: {dst['name']}\")\n",
    "    for inter in footprints.iloc[dst_id]['intersect']:\n",
    "        if footprints.iloc[inter['id']]['calibrated']:\n",
    "            src_id = inter['id']\n",
    "            src = footprints.iloc[src_id]\n",
    "            src_raster = rxr.open_rasterio(f\"{GEOTIFF_CAL_DIR}/{src['name']}\", masked=True)#.rio.clip([dst['geometry']])\n",
    "            logger.info(f\"Matching:: src: {src['name']}\")\n",
    "            intersection = src['geometry'].intersection(dst['geometry'])\n",
    "            try:\n",
    "                src_clip = src_raster.rio.clip([intersection])\n",
    "                dst_clip = dst_raster.rio.clip([intersection])\n",
    "            except NoDataInBounds:\n",
    "                logger.info(f\"NoDataInBounds\")\n",
    "                continue\n",
    "            dst_clip = dst_clip.rio.reproject_match(src_clip)\n",
    "            diff = (src_clip.values-dst_clip.values).flatten()\n",
    "            weight = 1./np.nanstd(diff)#inter['area']\n",
    "            offset = np.nanmean(diff)\n",
    "            #assert offset is not nan\n",
    "            if np.isnan(offset):\n",
    "                logger.info(f\"offset is nan\")\n",
    "                continue\n",
    "            logger.info(f\"offset: {offset}, weight: {weight}\")\n",
    "            offsets.append(offset)\n",
    "            weights.append(weight)\n",
    "        \n",
    "    offsets = np.array(offsets)\n",
    "    weights = np.array(weights)\n",
    "    offsets_all = offsets.copy()\n",
    "    weights_all = weights.copy()\n",
    "    if len(offsets) > 1:\n",
    "        indices = np.abs(offsets - np.mean(offsets)) < 2*np.std(offsets) #remove outliers\n",
    "        offsets = offsets[indices]\n",
    "        weights = weights[indices]\n",
    "    weight = weights.mean()\n",
    "    offset = (offsets*weights).sum()/weights.sum()\n",
    "\n",
    "    #Display\n",
    "    display.clear_output(wait=True)\n",
    "    print(weight)\n",
    "    #create two subplots\n",
    "    fig, (ax1, ax2) = plt.subplots(1, 2, figsize=(10,4))\n",
    "    # set figure title\n",
    "    fig.suptitle(f\"{dst['name']}\")\n",
    "    #plot offsets against weights\n",
    "    ax1.scatter(offsets_all, weights_all, s=100, color='red')\n",
    "    ax1.scatter(offsets, weights, s=100, color='green')\n",
    "    ax1.set_xlabel('offset')\n",
    "    ax1.set_ylabel('weight')\n",
    "    ax1.axvline(offset, color='r')\n",
    "    # plot points\n",
    "    #plot footprints centroids where calibrated=False\n",
    "    footprints[footprints['calibrated']==False].centroid.plot(ax=ax2, color='red', markersize=10)\n",
    "    #plot footprints centroids where calibrated=True\n",
    "    footprints[footprints['calibrated']==True].centroid.plot(ax=ax2, color='green', markersize=10)\n",
    "    #hide axis\n",
    "    ax2.axis('off')\n",
    "    plt.show()\n",
    "\n",
    "    std = np.std(offsets) if len(offsets) > 1 else 0.0\n",
    "    footprints.loc[dst_id, 'std'] = std\n",
    "    footprints.loc[dst_id, 'weight'] = weight\n",
    "    footprints.loc[dst_id, 'offset'] = offset\n",
    "    footprints.loc[dst_id, 'calibrated'] = True\n",
    "    dst_raster.values = dst_raster.values + offset\n",
    "    dst_raster.rio.to_raster(f\"{GEOTIFF_CAL_DIR}/{dst['name']}\")\n",
    "    tiff = rxr.open_rasterio(f\"{TIFF_DIR}/{dst['name']}\")\n",
    "    tiff.values = (tiff.values+offset)\n",
    "    tiff.rio.to_raster(f\"{TIFF_CAL_DIR}/{dst['name']}\")\n",
    "    os.system(f\"exiftool -tagsfromfile {TIFF_DIR}/{dst['name']} {TIFF_CAL_DIR}/{dst['name']} -overwrite_original_in_place\")\n",
    "    logger.info(f\"Calibrated:: offset: {offset}, weight: {weight}\")"
   ]
  },
  {
   "cell_type": "code",
   "execution_count": 22,
   "metadata": {},
   "outputs": [
    {
     "data": {
      "text/plain": [
       "10.235070359764965"
      ]
     },
     "execution_count": 22,
     "metadata": {},
     "output_type": "execute_result"
    }
   ],
   "source": [
    "offset"
   ]
  }
 ],
 "metadata": {
  "kernelspec": {
   "display_name": "Python 3",
   "language": "python",
   "name": "python3"
  },
  "language_info": {
   "codemirror_mode": {
    "name": "ipython",
    "version": 3
   },
   "file_extension": ".py",
   "mimetype": "text/x-python",
   "name": "python",
   "nbconvert_exporter": "python",
   "pygments_lexer": "ipython3",
   "version": "3.9.2"
  },
  "orig_nbformat": 4,
  "vscode": {
   "interpreter": {
    "hash": "31f2aee4e71d21fbe5cf8b01ff0e069b9275f58929596ceb00d14d90e3e16cd6"
   }
  }
 },
 "nbformat": 4,
 "nbformat_minor": 2
}
