{
 "cells": [
  {
   "cell_type": "code",
   "execution_count": 1,
   "metadata": {},
   "outputs": [],
   "source": [
    "import os\n",
    "from datetime import datetime\n",
    "import shutil\n",
    "from glob import glob\n",
    "import rioxarray as rxr\n",
    "from rioxarray.exceptions import NoDataInBounds\n",
    "import rasterio.features\n",
    "import numpy as np\n",
    "import geopandas as gpd\n",
    "from shapely.geometry import Polygon\n",
    "from tqdm import tqdm\n",
    "import matplotlib.pyplot as plt\n",
    "from IPython import display\n",
    "from rasterio.errors import NotGeoreferencedWarning\n",
    "from scipy.ndimage import gaussian_filter\n",
    "import importlib.util\n",
    "from rioxarray.merge import merge_arrays\n",
    "from scipy.optimize import minimize\n",
    "from scipy.signal import find_peaks\n",
    "import warnings\n",
    "import torch\n",
    "import pandas as pd\n",
    "import pickle\n",
    "import cv2\n",
    "warnings.filterwarnings(\"ignore\", category=NotGeoreferencedWarning)\n",
    "np.seterr(divide='ignore', invalid='ignore')\n",
    "\n",
    "# from IPython.core.interactiveshell import InteractiveShell\n",
    "# InteractiveShell.ast_node_interactivity = \"all\"\n",
    "\n",
    "def recreate_dir(path):\n",
    "    if os.path.exists(path):\n",
    "        shutil.rmtree(path)\n",
    "    os.makedirs(path)\n",
    "    return path\n",
    "\n",
    "def load_config(path):\n",
    "    spec = importlib.util.spec_from_file_location(\"CFG\", path)\n",
    "    CFG = importlib.util.module_from_spec(spec)\n",
    "    spec.loader.exec_module(CFG)\n",
    "    return CFG\n",
    "\n",
    "def inline_chart(values, width=10):\n",
    "    min_val = np.min(values)\n",
    "    max_val = np.max(values)\n",
    "    #if len(values) > width resample to 10 values\n",
    "    if len(values) > width:\n",
    "        values = np.array_split(values, width)\n",
    "        values = [np.mean(v) for v in values]\n",
    "    else:\n",
    "        #pad with min value\n",
    "        values = np.pad(values, (0, width-len(values)), \"constant\", constant_values=min_val)\n",
    "    #normalize\n",
    "    values = (values - min_val)/(max_val - min_val)\n",
    "    chart = \"\"\n",
    "    for value in values:\n",
    "        if value >= 0. and value < 0.125:\n",
    "            chart+=\"▁\"\n",
    "        elif value >= 0.125 and value < 0.25:\n",
    "            chart+=\"▂\"\n",
    "        elif value >= 0.25 and value < 0.375:\n",
    "            chart+=\"▃\"\n",
    "        elif value >= 0.375 and value < 0.5:\n",
    "            chart+=\"▄\"\n",
    "        elif value >= 0.5 and value < 0.625:\n",
    "            chart+=\"▅\"\n",
    "        elif value >= 0.625 and value < 0.75:\n",
    "            chart+=\"▆\"\n",
    "        elif value >= 0.75 and value < 0.875:\n",
    "            chart+=\"▇\"\n",
    "        elif value >= 0.875 and value <= 1.:\n",
    "            chart+=\"▉\"\n",
    "    return chart"
   ]
  },
  {
   "cell_type": "code",
   "execution_count": 2,
   "metadata": {},
   "outputs": [],
   "source": [
    "DATA_DIR = \"data/20221220_Sudol\"\n",
    "CFG = load_config(f\"{DATA_DIR}/config.py\").CALIBRATION"
   ]
  },
  {
   "cell_type": "code",
   "execution_count": 3,
   "metadata": {},
   "outputs": [],
   "source": [
    "#configure logging to file\n",
    "import logging\n",
    "log_path = f\"{DATA_DIR}/logs/calibration_{datetime.now().strftime('%d%m%Y%H%M%S')}.log\"\n",
    "os.makedirs(os.path.dirname(log_path), exist_ok=True)\n",
    "logging.basicConfig(filename=log_path,level=logging.INFO, format='%(asctime)s %(levelname)-8s %(message)s', datefmt='%Y-%m-%d %H:%M:%S')\n",
    "logger = logging.getLogger(__name__)\n",
    "logger.handlers.clear()\n",
    "#logger.addHandler(logging.StreamHandler())\n",
    "logger.info(\"Starting procedure\")"
   ]
  },
  {
   "cell_type": "code",
   "execution_count": 4,
   "metadata": {},
   "outputs": [],
   "source": [
    "TMP_DIR = f\"{DATA_DIR}/tmp\"\n",
    "recreate_dir(TMP_DIR)\n",
    "TIF_UNCAL_DIR = f\"{DATA_DIR}/tif_uncal\"\n",
    "assert os.path.exists(TIF_UNCAL_DIR), \"TIF_UNCAL_DIR does not exist. Please run 1_conversion.ipynb first.\"\n",
    "GEOTIF_UNCAL_DIR = f\"{DATA_DIR}/geotif_uncal\"\n",
    "assert os.path.exists(GEOTIF_UNCAL_DIR), \"geotif_dir does not exist. Please run 1_conversion.ipynb first.\"\n",
    "TIF_CAL_DIR = f\"{DATA_DIR}/tif_cal\"\n",
    "GEOTIF_CAL_DIR = f\"{DATA_DIR}/geotif_cal\"\n",
    "PLOT_CLIP_DIR = f\"{DATA_DIR}/plot_clip\"\n",
    "PLOT_CAL_DIR = f\"{DATA_DIR}/plot_cal\"\n",
    "CACHE_DIR = f\"{DATA_DIR}/cache\"\n",
    "os.makedirs(CACHE_DIR, exist_ok=True)\n",
    "# TEMP_OPTIM_DATASET_DIR = f\"{DATA_DIR}/temp_optim_dataset\"\n",
    "# I_CLIP_DIR = f\"{TEMP_OPTIM_DATASET_DIR}/i_clip\"\n",
    "# J_CLIP_DIR = f\"{TEMP_OPTIM_DATASET_DIR}/j_clip\"\n",
    "# CLIP_MASK_DIR = f\"{TEMP_OPTIM_DATASET_DIR}/clip_mask\""
   ]
  },
  {
   "cell_type": "code",
   "execution_count": 5,
   "metadata": {},
   "outputs": [
    {
     "name": "stderr",
     "output_type": "stream",
     "text": [
      "100%|██████████| 239/239 [00:44<00:00,  5.32it/s]\n"
     ]
    }
   ],
   "source": [
    "if CFG.CACHE and os.path.exists(f\"{CACHE_DIR}/footprints.pkl\"):\n",
    "    logger.info(\"Loading footprints from cache\")\n",
    "    with open(f\"{CACHE_DIR}/footprints.pkl\", \"rb\") as f:\n",
    "        footprints = pickle.load(f)\n",
    "else:\n",
    "    logger.info(\"Reading footprints from geotifs\")\n",
    "    geometries = []\n",
    "    names = []\n",
    "    for path in tqdm(glob(f\"{GEOTIF_UNCAL_DIR}/*.tif\")):\n",
    "        raster = rxr.open_rasterio(path)\n",
    "        footprints = rasterio.features.shapes((raster != raster.rio.nodata).values.astype(np.int16), transform=raster.rio.transform())\n",
    "        footprints = [Polygon(geom[\"coordinates\"][0]).simplify(10) for geom, colval in footprints if colval == 1]\n",
    "        assert len(footprints) == 1, \"More than one footprint found\"\n",
    "        names.append(os.path.basename(path))\n",
    "        geometries.append(footprints[0])\n",
    "    footprints = gpd.GeoDataFrame({\"name\": names, \"geometry\": geometries})\n",
    "    #write CRS\n",
    "    footprints.crs = CFG.CRS\n",
    "    with open(f\"{CACHE_DIR}/footprints.pkl\", \"wb\") as f:\n",
    "        pickle.dump(footprints, f)"
   ]
  },
  {
   "cell_type": "code",
   "execution_count": 6,
   "metadata": {},
   "outputs": [],
   "source": [
    "#erode footprints\n",
    "footprints[\"geometry\"] = footprints[\"geometry\"].buffer(-CFG.EROSION)"
   ]
  },
  {
   "cell_type": "code",
   "execution_count": 7,
   "metadata": {},
   "outputs": [],
   "source": [
    "def nan_gaussian_filter(arr, sigma):\n",
    "    \"\"\"Apply gaussian filter to array while ignoring nans\"\"\"\n",
    "    V=arr.copy()\n",
    "    V[np.isnan(arr)]=0\n",
    "    VV=gaussian_filter(V,sigma=sigma)\n",
    "    W=0*arr.copy()+1\n",
    "    W[np.isnan(arr)]=0\n",
    "    WW=gaussian_filter(W,sigma=sigma)\n",
    "    Z=VV/WW\n",
    "    Z[np.isnan(arr)]=np.nan\n",
    "    return Z\n"
   ]
  },
  {
   "cell_type": "code",
   "execution_count": 8,
   "metadata": {},
   "outputs": [
    {
     "name": "stderr",
     "output_type": "stream",
     "text": [
      "100%|██████████| 239/239 [14:48<00:00,  3.72s/it]\n"
     ]
    }
   ],
   "source": [
    "\n",
    "if CFG.CACHE and os.path.exists(f\"{CACHE_DIR}/calibration_pairs.pkl\"):\n",
    "    logger.info(\"Loading cached pairs\")\n",
    "    with open(f\"{CACHE_DIR}/calibration_pairs.pkl\", \"rb\") as f:\n",
    "        pairs_i, pairs_j, pairs_area, i_clips, j_clips, masks = pickle.load(f)\n",
    "else:\n",
    "    logger.info(\"Generating temprature global optimization dataset\")\n",
    "    # recreate_dir(TEMP_OPTIM_DATASET_DIR)\n",
    "    # recreate_dir(I_CLIP_DIR)\n",
    "    # recreate_dir(J_CLIP_DIR)\n",
    "    # recreate_dir(CLIP_MASK_DIR)\n",
    "    pairs_i = []\n",
    "    pairs_j = []\n",
    "    pairs_area = []\n",
    "    i_clips = []\n",
    "    j_clips = []\n",
    "    masks = []\n",
    "    # idx = 0\n",
    "    for i in tqdm(range(len(footprints))):\n",
    "        i_raster = rxr.open_rasterio(f\"{GEOTIF_UNCAL_DIR}/{footprints.iloc[i]['name']}\", masked=True)\n",
    "        for j in range(i+1, len(footprints)):\n",
    "            if footprints.iloc[i].geometry.intersects(footprints.iloc[j].geometry):\n",
    "                intersection = footprints.iloc[i].geometry.intersection(footprints.iloc[j].geometry)\n",
    "                if intersection.area < CFG.MIN_INTERSECTION_AREA:\n",
    "                    logger.info(f\"i ({i}), j ({j}): intersection area too small\")\n",
    "                    continue\n",
    "                j_raster = rxr.open_rasterio(f\"{GEOTIF_UNCAL_DIR}/{footprints.iloc[j]['name']}\", masked=True)\n",
    "                try:\n",
    "                    i_clip = i_raster.rio.clip([intersection])\n",
    "                    j_clip = j_raster.rio.clip([intersection])\n",
    "                except NoDataInBounds:\n",
    "                    logger.info(f\"i ({i}), j ({j}): NoDataInBounds\")\n",
    "                    continue\n",
    "                j_clip = j_clip.rio.reproject_match(i_clip)\n",
    "                i_clip = i_clip.values[0]\n",
    "                j_clip = j_clip.values[0]\n",
    "                i_clip = nan_gaussian_filter(i_clip, sigma=CFG.GAUSS_SIGMA)\n",
    "                j_clip = nan_gaussian_filter(j_clip, sigma=CFG.GAUSS_SIGMA)\n",
    "                i_var = np.nanvar(i_clip)\n",
    "                j_var = np.nanvar(j_clip)\n",
    "                var = np.nanmean([i_var, j_var])\n",
    "                if np.isnan(var):\n",
    "                    logger.info(f\"i ({i}), j ({j}): var is nan\")\n",
    "                    continue\n",
    "                mask = (~np.isnan(i_clip) & ~np.isnan(j_clip)).astype(np.int16)\n",
    "                i_clip[np.isnan(i_clip)] = np.nanmean(i_clip)\n",
    "                j_clip[np.isnan(j_clip)] = np.nanmean(j_clip)\n",
    "\n",
    "                i_clip = cv2.resize(i_clip, (CFG.CLIP_SIZE, CFG.CLIP_SIZE), interpolation=cv2.INTER_LINEAR)\n",
    "                j_clip = cv2.resize(j_clip, (CFG.CLIP_SIZE, CFG.CLIP_SIZE), interpolation=cv2.INTER_LINEAR)\n",
    "                mask = cv2.resize(mask, (CFG.CLIP_SIZE, CFG.CLIP_SIZE), interpolation=cv2.INTER_NEAREST)\n",
    "                #assert i_clip, j_clip, mask dont have nans\n",
    "                if np.isnan(i_clip).any():\n",
    "                    logger.info(f\"i ({i}), j ({j}): i_clip has nan\")\n",
    "                    continue\n",
    "                if np.isnan(j_clip).any():\n",
    "                    logger.info(f\"i ({i}), j ({j}): j_clip has nan\")\n",
    "                    continue\n",
    "                if np.isnan(mask).any():\n",
    "                    logger.info(f\"i ({i}), j ({j}): mask has nan\")\n",
    "                    continue\n",
    "                #np.save(f\"{I_CLIP_DIR}/{idx}.npy\", i_clip)\n",
    "                #np.save(f\"{J_CLIP_DIR}/{idx}.npy\", j_clip)\n",
    "                #np.save(f\"{CLIP_MASK_DIR}/{idx}.npy\", mask)\n",
    "                pairs_i.append(i)\n",
    "                pairs_j.append(j)\n",
    "                pairs_area.append(intersection.area)\n",
    "                i_clips.append(i_clip)\n",
    "                j_clips.append(j_clip)\n",
    "                masks.append(mask)\n",
    "                # idx += 1\n",
    "    pairs_i = np.array(pairs_i)\n",
    "    pairs_j = np.array(pairs_j)\n",
    "    pairs_area = np.array(pairs_area)\n",
    "    i_clips = np.array(i_clips)\n",
    "    j_clips = np.array(j_clips)\n",
    "    masks = np.array(masks)\n",
    "    #pickle dump\n",
    "    with open(f\"{CACHE_DIR}/calibration_pairs.pkl\", \"wb\") as f:\n",
    "        pickle.dump((pairs_i, pairs_j, pairs_area, i_clips, j_clips, masks ), f)"
   ]
  },
  {
   "cell_type": "code",
   "execution_count": 9,
   "metadata": {},
   "outputs": [
    {
     "name": "stderr",
     "output_type": "stream",
     "text": [
      "Epoch 596:   6%|▌         | 596/10000 [00:57<14:21, 10.92it/s, pixel_loss=0.137, mean_loss=0.0286, var_loss=0.0453, loss=0.21088039875030518, a_mean=0.736, b_mean=-.216]"
     ]
    },
    {
     "name": "stdout",
     "output_type": "stream",
     "text": [
      "Epoch 00594: reducing learning rate of group 0 to 1.0000e-02.\n"
     ]
    },
    {
     "name": "stderr",
     "output_type": "stream",
     "text": [
      "Epoch 647:   6%|▋         | 646/10000 [01:02<14:44, 10.58it/s, pixel_loss=0.137, mean_loss=0.0286, var_loss=0.0453, loss=0.210876002907753, a_mean=0.736, b_mean=-.217]  "
     ]
    },
    {
     "name": "stdout",
     "output_type": "stream",
     "text": [
      "Epoch 00645: reducing learning rate of group 0 to 1.0000e-03.\n"
     ]
    },
    {
     "name": "stderr",
     "output_type": "stream",
     "text": [
      "Epoch 697:   7%|▋         | 696/10000 [01:07<14:26, 10.74it/s, pixel_loss=0.137, mean_loss=0.0286, var_loss=0.0453, loss=0.21087563037872314, a_mean=0.736, b_mean=-.217]"
     ]
    },
    {
     "name": "stdout",
     "output_type": "stream",
     "text": [
      "Epoch 00696: reducing learning rate of group 0 to 1.0000e-04.\n"
     ]
    },
    {
     "name": "stderr",
     "output_type": "stream",
     "text": [
      "Epoch 715:   7%|▋         | 715/10000 [01:09<14:58, 10.33it/s, pixel_loss=0.137, mean_loss=0.0286, var_loss=0.0453, loss=0.21087564527988434, a_mean=0.736, b_mean=-.217]"
     ]
    },
    {
     "name": "stdout",
     "output_type": "stream",
     "text": [
      "Early stopping\n"
     ]
    },
    {
     "name": "stderr",
     "output_type": "stream",
     "text": [
      "\n"
     ]
    }
   ],
   "source": [
    "n_images = len(footprints)\n",
    "device = torch.device(\"cuda\" if torch.cuda.is_available() else \"cpu\")\n",
    "\n",
    "pairs_i = torch.tensor(pairs_i, dtype=torch.int64, device=device) # (n_pairs,)\n",
    "pairs_j = torch.tensor(pairs_j, dtype=torch.int64, device=device) # (n_pairs,)\n",
    "pairs_area = torch.tensor(pairs_area, dtype=torch.float32, device=device) # (n_pairs,)\n",
    "#pairs_var = torch.tensor(pairs_var, dtype=torch.float32, device=device) # (n_pairs,)\n",
    "i_clips = torch.tensor(i_clips, dtype=torch.float32, device=device) # (n_pairs, width, height)\n",
    "j_clips = torch.tensor(j_clips, dtype=torch.float32, device=device) # (n_pairs, width, height)\n",
    "masks = torch.tensor(masks, dtype=torch.float32, device=device) # (n_pairs, width, height)\n",
    "pairs_n_pixels = torch.sum(masks, dim=(1, 2)) # (n_pairs,)\n",
    "n_pixels = torch.sum(pairs_n_pixels) # (1,)\n",
    "n_pairs = len(pairs_i) # (1,)\n",
    "i_clips_mean = torch.sum(i_clips * masks, dim=(1, 2)) / pairs_n_pixels # (n_pairs,)\n",
    "j_clips_mean = torch.sum(j_clips * masks, dim=(1, 2)) / pairs_n_pixels # (n_pairs,)\n",
    "i_clips_var = torch.sum(masks * (i_clips - i_clips_mean[:, None, None]) ** 2, dim=(1, 2)) / pairs_n_pixels # (n_pairs,)\n",
    "j_clips_var = torch.sum(masks * (j_clips - j_clips_mean[:, None, None]) ** 2, dim=(1, 2)) / pairs_n_pixels # (n_pairs,)\n",
    "a_coefs = torch.ones(n_images, dtype=torch.float32, device=device, requires_grad=True) # (n_images,)\n",
    "b_coefs = torch.zeros(n_images, dtype=torch.float32, device=device, requires_grad=True) # (n_images,)\n",
    "\n",
    "optimizer = torch.optim.Adam([a_coefs, b_coefs], lr=CFG.INIT_LR)\n",
    "scheduler = torch.optim.lr_scheduler.ReduceLROnPlateau(optimizer, mode=\"min\", factor=CFG.LR_PLATEAU_FACTOR, patience=CFG.LR_PLATEAU_PATIENCE, cooldown=CFG.LR_PLATEAU_COOLDOWN, verbose=True)\n",
    "\n",
    "best_loss = np.inf\n",
    "es_counter = 0\n",
    "pixel_losses = []\n",
    "mean_losses = []\n",
    "var_losses = []\n",
    "for epoch in (pbar := tqdm(range(CFG.EPOCHS))):\n",
    "    pbar.set_description(f\"Epoch {epoch}\")\n",
    "    optimizer.zero_grad()\n",
    "    i_clips_cal = a_coefs[pairs_i, None, None] * i_clips + b_coefs[pairs_i, None, None] # (n_pairs, width, height)\n",
    "    j_clips_cal = a_coefs[pairs_j, None, None] * j_clips + b_coefs[pairs_j, None, None] # (n_pairs, width, height)\n",
    "    i_clips_cal_mean = torch.sum(i_clips_cal * masks, dim=(1, 2)) / pairs_n_pixels # (n_pairs,)\n",
    "    j_clips_cal_mean = torch.sum(j_clips_cal * masks, dim=(1, 2)) / pairs_n_pixels # (n_pairs,)\n",
    "    i_clips_cal_var = torch.sum(masks * (i_clips_cal - i_clips_cal_mean[:, None, None]) ** 2, dim=(1, 2)) / pairs_n_pixels # (n_pairs,)\n",
    "    j_clips_cal_var = torch.sum(masks * (j_clips_cal - j_clips_cal_mean[:, None, None]) ** 2, dim=(1, 2)) / pairs_n_pixels # (n_pairs,)\n",
    "    # clips_cal = torch.stack([i_clips, j_clips], axis=1)\n",
    "    # clips_cal_mean = torch.sum(clips_cal * masks[:, None, :, :], axis=(1, 2, 3)) / 2. / pairs_n_pixels # (n_pairs,)\n",
    "    # clips_cal_var = torch.sum((clips_cal - clips_cal_mean[:, None, None, None])**2 * masks[:, None, :, :], axis=(1, 2, 3)) / 2. / pairs_n_pixels # (n_pairs,)\n",
    "    \n",
    "    # i_clips_cal_mean = torch.sum(i_clips_cal * masks)/n_pixels # (n_pairs,)\n",
    "    # j_clips_cal_mean = torch.sum(j_clips_cal * masks)/n_pixels # (n_pairs,)\n",
    "    # i_clips_cal_var = torch.sum((i_clips_cal - i_clips_cal_mean[None, None, None])**2 * masks)/n_pixels # (n_pairs,)\n",
    "    # j_clips_cal_var = torch.sum((j_clips_cal - j_clips_cal_mean[None, None, None])**2 * masks)/n_pixels # (n_pairs,)\n",
    "    # clips_cal_var = 0.5*(i_clips_cal_var + j_clips_cal_var) \n",
    "    \n",
    "    pixel_loss = torch.sum((i_clips_cal - j_clips_cal)**2 * masks)/n_pixels\n",
    "    #abs_loss = 0.1*(torch.sum((i_clips_cal - i_clips)**2 * masks)/n_pixels + torch.sum((j_clips_cal - j_clips)**2 * masks)/n_pixels)\n",
    "    mean_loss = 0.01*(torch.sum((i_clips_cal_mean - i_clips_mean)**2)/n_pairs + torch.sum((j_clips_cal_mean - j_clips_mean)**2)/n_pairs)\n",
    "    var_loss = 0.5*(torch.sum((i_clips_cal_var - i_clips_var)**2)/n_pairs + torch.sum((j_clips_cal_var - j_clips_var)**2)/n_pairs)\n",
    "    loss = pixel_loss + mean_loss + var_loss\n",
    "    \n",
    "    if best_loss-loss.item() > CFG.ES_MIN_DELTA:\n",
    "        best_loss = loss.item()\n",
    "        best_a_coefs = a_coefs.detach().cpu().numpy()\n",
    "        best_b_coefs = b_coefs.detach().cpu().numpy()\n",
    "        es_counter = 0\n",
    "    else:\n",
    "        es_counter += 1\n",
    "        if es_counter > CFG.ES_PATIENCE:\n",
    "            print(\"Early stopping\")\n",
    "            break\n",
    "    pixel_losses.append(pixel_loss.item())\n",
    "    mean_losses.append(mean_loss.item())\n",
    "    var_losses.append(var_loss.item())\n",
    "    loss.backward()\n",
    "    optimizer.step()\n",
    "    scheduler.step(loss)\n",
    "    pbar.set_postfix({\"pixel_loss\": pixel_loss.item(), \"mean_loss\": mean_loss.item(), \"var_loss\": var_loss.item(), \"loss\": f\"{loss.item()}\", \"a_mean\": a_coefs.mean().item(), \"b_mean\": b_coefs.mean().item()})"
   ]
  },
  {
   "cell_type": "code",
   "execution_count": 10,
   "metadata": {},
   "outputs": [
    {
     "data": {
      "image/png": "[encoded data removed]",
      "text/plain": [
       "<Figure size 1500x500 with 1 Axes>"
      ]
     },
     "metadata": {},
     "output_type": "display_data"
    }
   ],
   "source": [
    "#plot losses with log scale\n",
    "plt.figure(figsize=(15, 5))\n",
    "plt.plot(pixel_losses, label=\"pixel_loss\")\n",
    "plt.plot(mean_losses, label=\"mean_loss\")\n",
    "plt.plot(var_losses, label=\"var_loss\")\n",
    "#plt.yscale(\"log\")\n",
    "plt.legend()\n",
    "plt.show()"
   ]
  },
  {
   "cell_type": "code",
   "execution_count": 11,
   "metadata": {},
   "outputs": [
    {
     "name": "stderr",
     "output_type": "stream",
     "text": [
      "Saving calibrated rasters: 239it [00:54,  4.36it/s]\n"
     ]
    }
   ],
   "source": [
    "recreate_dir(GEOTIF_CAL_DIR)\n",
    "recreate_dir(TIF_CAL_DIR)\n",
    "for (i, row), a, b in zip(tqdm(footprints.iterrows(), desc=\"Saving calibrated rasters\"), best_a_coefs, best_b_coefs):\n",
    "    geotif = rxr.open_rasterio(f\"{GEOTIF_UNCAL_DIR}/{row['name']}\", masked=True)\n",
    "    geotif = geotif.rio.clip([row['geometry']])\n",
    "    geotif.values = a * geotif.values + b\n",
    "    geotif.rio.to_raster(f\"{GEOTIF_CAL_DIR}/{row['name']}\")\n",
    "    # tif = rxr.open_rasterio(f\"{TIF_UNCAL_DIR}/{name}\", masked=True)\n",
    "    # tif.values = a * tif.values + b\n",
    "    # tif.rio.to_raster(f\"{TIF_CAL_DIR}/{name}\")\n",
    "    # os.system(f\"exiftool -tagsfromfile {TIF_UNCAL_DIR}/{name} {TIF_CAL_DIR}/{name} -overwrite_original_in_place\")"
   ]
  }
 ],
 "metadata": {
  "kernelspec": {
   "display_name": "Python 3",
   "language": "python",
   "name": "python3"
  },
  "language_info": {
   "codemirror_mode": {
    "name": "ipython",
    "version": 3
   },
   "file_extension": ".py",
   "mimetype": "text/x-python",
   "name": "python",
   "nbconvert_exporter": "python",
   "pygments_lexer": "ipython3",
   "version": "3.9.2"
  },
  "orig_nbformat": 4,
  "vscode": {
   "interpreter": {
    "hash": "31f2aee4e71d21fbe5cf8b01ff0e069b9275f58929596ceb00d14d90e3e16cd6"
   }
  }
 },
 "nbformat": 4,
 "nbformat_minor": 2
}
