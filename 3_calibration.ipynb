{
 "cells": [
  {
   "cell_type": "code",
   "execution_count": 1,
   "metadata": {},
   "outputs": [],
   "source": [
    "import os\n",
    "from datetime import datetime\n",
    "import shutil\n",
    "from glob import glob\n",
    "import rioxarray as rxr\n",
    "from rioxarray.exceptions import NoDataInBounds\n",
    "import rasterio.features\n",
    "import numpy as np\n",
    "import geopandas as gpd\n",
    "from shapely.geometry import Polygon\n",
    "from tqdm import tqdm\n",
    "import matplotlib.pyplot as plt\n",
    "from IPython import display\n",
    "from rasterio.errors import NotGeoreferencedWarning\n",
    "from scipy.ndimage import gaussian_filter\n",
    "import importlib.util\n",
    "from rioxarray.merge import merge_arrays\n",
    "from scipy.optimize import minimize\n",
    "from scipy.signal import find_peaks\n",
    "import warnings\n",
    "warnings.filterwarnings(\"ignore\", category=NotGeoreferencedWarning)\n",
    "np.seterr(divide='ignore', invalid='ignore')\n",
    "\n",
    "def recreate_dir(path):\n",
    "    if os.path.exists(path):\n",
    "        shutil.rmtree(path)\n",
    "    os.makedirs(path)\n",
    "    return path\n",
    "\n",
    "def load_config(path):\n",
    "    spec = importlib.util.spec_from_file_location(\"CFG\", path)\n",
    "    CFG = importlib.util.module_from_spec(spec)\n",
    "    spec.loader.exec_module(CFG)\n",
    "    return CFG"
   ]
  },
  {
   "cell_type": "code",
   "execution_count": 2,
   "metadata": {},
   "outputs": [],
   "source": [
    "DATA_DIR = \"data/rybna_202203240654\"\n",
    "CFG = load_config(f\"{DATA_DIR}/config.py\")"
   ]
  },
  {
   "cell_type": "code",
   "execution_count": 3,
   "metadata": {},
   "outputs": [
    {
     "name": "stderr",
     "output_type": "stream",
     "text": [
      "Starting procedure\n"
     ]
    }
   ],
   "source": [
    "#configure logging to file\n",
    "import logging\n",
    "log_path = f\"{DATA_DIR}/logs/calibration_{datetime.now().strftime('%d%m%Y%H%M%S')}.log\"\n",
    "os.makedirs(os.path.dirname(log_path), exist_ok=True)\n",
    "logging.basicConfig(filename=log_path,level=logging.INFO, format='%(asctime)s %(levelname)-8s %(message)s', datefmt='%Y-%m-%d %H:%M:%S')\n",
    "logger = logging.getLogger(__name__)\n",
    "logger.handlers.clear()\n",
    "logger.addHandler(logging.StreamHandler())\n",
    "logger.info(\"Starting procedure\")"
   ]
  },
  {
   "cell_type": "code",
   "execution_count": 24,
   "metadata": {},
   "outputs": [],
   "source": [
    "# EROSION = 5 #meters\n",
    "# CRS = \"EPSG:32634\"\n",
    "TMP_DIR = f\"{DATA_DIR}/tmp\"\n",
    "recreate_dir(TMP_DIR)\n",
    "TIFF_DIR = f\"{DATA_DIR}/tiff\"\n",
    "assert os.path.exists(TIFF_DIR), \"tiff_dir does not exist. Please run 1_conversion.ipynb first.\"\n",
    "GEOTIFF_OPTIM_DIR = f\"{DATA_DIR}/geotiff_optim\"\n",
    "assert os.path.exists(GEOTIFF_OPTIM_DIR), \"geotiff_dir does not exist. Please run 1_conversion.ipynb first.\"\n",
    "TIFF_CAL_DIR = f\"{DATA_DIR}/tiff_cal\"\n",
    "GEOTIFF_CAL_DIR = f\"{DATA_DIR}/geotiff_cal\"\n",
    "PLOT_CLIP_DIR = f\"{DATA_DIR}/plot_clip\"\n",
    "PLOT_CAL_DIR = f\"{DATA_DIR}/plot_cal\""
   ]
  },
  {
   "cell_type": "code",
   "execution_count": 5,
   "metadata": {},
   "outputs": [
    {
     "name": "stderr",
     "output_type": "stream",
     "text": [
      "Reading footprints\n",
      "100%|██████████| 890/890 [02:31<00:00,  5.88it/s]\n"
     ]
    }
   ],
   "source": [
    "logger.info(\"Reading footprints\")\n",
    "geometries = []\n",
    "names = []\n",
    "for path in tqdm(glob(f\"{GEOTIFF_OPTIM_DIR}/*.tiff\")):\n",
    "    raster = rxr.open_rasterio(path)\n",
    "    footprints = rasterio.features.shapes((raster != raster.rio.nodata).values.astype(np.int16), transform=raster.rio.transform())\n",
    "    footprints = [Polygon(geom[\"coordinates\"][0]).simplify(10).buffer(-CFG.EROSION) for geom, colval in footprints if colval == 1]\n",
    "    assert len(footprints) == 1, \"More than one footprint found\"\n",
    "    names.append(os.path.basename(path))\n",
    "    geometries.append(footprints[0])\n",
    "footprints = gpd.GeoDataFrame({\"name\": names, \"geometry\": geometries})"
   ]
  },
  {
   "cell_type": "code",
   "execution_count": 6,
   "metadata": {},
   "outputs": [
    {
     "name": "stderr",
     "output_type": "stream",
     "text": [
      "Detecting intersections\n",
      "890it [00:11, 74.86it/s]\n"
     ]
    }
   ],
   "source": [
    "logger.info(\"Detecting intersections\")\n",
    "inters = []\n",
    "# geometries_buf = []\n",
    "for i, i_geom in tqdm(footprints[\"geometry\"].items()):\n",
    "    inter = []\n",
    "    for j, j_geom in footprints[\"geometry\"].items():\n",
    "        if i == j:\n",
    "            continue\n",
    "        if i_geom.intersects(j_geom):\n",
    "            area = i_geom.intersection(j_geom).area\n",
    "            inter.append({\"id\": j,\"area\": area})\n",
    "    inter = sorted(inter, key=lambda k: k['area'], reverse=True)\n",
    "    inters.append(inter)\n",
    "    # geometries_buf.append(i_geom)\n",
    "# footprints['geometry'] = geometries_buf\n",
    "footprints['intersect'] = inters"
   ]
  },
  {
   "cell_type": "code",
   "execution_count": 35,
   "metadata": {},
   "outputs": [
    {
     "data": {
      "text/plain": [
       "<Figure size 640x480 with 0 Axes>"
      ]
     },
     "metadata": {},
     "output_type": "display_data"
    },
    {
     "data": {
      "text/plain": [
       "<Figure size 640x480 with 0 Axes>"
      ]
     },
     "metadata": {},
     "output_type": "display_data"
    },
    {
     "data": {
      "text/plain": [
       "<Figure size 640x480 with 0 Axes>"
      ]
     },
     "metadata": {},
     "output_type": "display_data"
    },
    {
     "data": {
      "text/plain": [
       "<Figure size 640x480 with 0 Axes>"
      ]
     },
     "metadata": {},
     "output_type": "display_data"
    },
    {
     "data": {
      "text/plain": [
       "<Figure size 640x480 with 0 Axes>"
      ]
     },
     "metadata": {},
     "output_type": "display_data"
    },
    {
     "data": {
      "text/plain": [
       "<Figure size 640x480 with 0 Axes>"
      ]
     },
     "metadata": {},
     "output_type": "display_data"
    },
    {
     "data": {
      "text/plain": [
       "<Figure size 640x480 with 0 Axes>"
      ]
     },
     "metadata": {},
     "output_type": "display_data"
    },
    {
     "data": {
      "text/plain": [
       "<Figure size 640x480 with 0 Axes>"
      ]
     },
     "metadata": {},
     "output_type": "display_data"
    },
    {
     "data": {
      "text/plain": [
       "<Figure size 640x480 with 0 Axes>"
      ]
     },
     "metadata": {},
     "output_type": "display_data"
    },
    {
     "data": {
      "text/plain": [
       "<Figure size 640x480 with 0 Axes>"
      ]
     },
     "metadata": {},
     "output_type": "display_data"
    },
    {
     "data": {
      "text/plain": [
       "<Figure size 640x480 with 0 Axes>"
      ]
     },
     "metadata": {},
     "output_type": "display_data"
    },
    {
     "data": {
      "text/plain": [
       "<Figure size 640x480 with 0 Axes>"
      ]
     },
     "metadata": {},
     "output_type": "display_data"
    },
    {
     "data": {
      "text/plain": [
       "<Figure size 640x480 with 0 Axes>"
      ]
     },
     "metadata": {},
     "output_type": "display_data"
    },
    {
     "data": {
      "text/plain": [
       "<Figure size 640x480 with 0 Axes>"
      ]
     },
     "metadata": {},
     "output_type": "display_data"
    },
    {
     "data": {
      "text/plain": [
       "<Figure size 640x480 with 0 Axes>"
      ]
     },
     "metadata": {},
     "output_type": "display_data"
    },
    {
     "data": {
      "text/plain": [
       "<Figure size 640x480 with 0 Axes>"
      ]
     },
     "metadata": {},
     "output_type": "display_data"
    },
    {
     "data": {
      "text/plain": [
       "<Figure size 640x480 with 0 Axes>"
      ]
     },
     "metadata": {},
     "output_type": "display_data"
    },
    {
     "data": {
      "text/plain": [
       "<Figure size 640x480 with 0 Axes>"
      ]
     },
     "metadata": {},
     "output_type": "display_data"
    },
    {
     "data": {
      "text/plain": [
       "<Figure size 640x480 with 0 Axes>"
      ]
     },
     "metadata": {},
     "output_type": "display_data"
    },
    {
     "data": {
      "text/plain": [
       "<Figure size 640x480 with 0 Axes>"
      ]
     },
     "metadata": {},
     "output_type": "display_data"
    },
    {
     "data": {
      "text/plain": [
       "<Figure size 640x480 with 0 Axes>"
      ]
     },
     "metadata": {},
     "output_type": "display_data"
    },
    {
     "data": {
      "text/plain": [
       "<Figure size 640x480 with 0 Axes>"
      ]
     },
     "metadata": {},
     "output_type": "display_data"
    },
    {
     "data": {
      "text/plain": [
       "<Figure size 640x480 with 0 Axes>"
      ]
     },
     "metadata": {},
     "output_type": "display_data"
    },
    {
     "data": {
      "text/plain": [
       "<Figure size 640x480 with 0 Axes>"
      ]
     },
     "metadata": {},
     "output_type": "display_data"
    },
    {
     "data": {
      "text/plain": [
       "<Figure size 640x480 with 0 Axes>"
      ]
     },
     "metadata": {},
     "output_type": "display_data"
    },
    {
     "data": {
      "text/plain": [
       "<Figure size 640x480 with 0 Axes>"
      ]
     },
     "metadata": {},
     "output_type": "display_data"
    },
    {
     "data": {
      "image/png": "[encoded data removed]",
      "text/plain": [
       "<Figure size 1000x400 with 3 Axes>"
      ]
     },
     "metadata": {},
     "output_type": "display_data"
    },
    {
     "name": "stderr",
     "output_type": "stream",
     "text": [
      "Warning: [minor] Bad format (29551) for MakerNotes entry 0 - data/rybna_202203240654/tiff/DJI_20220324071441_0337_T.JPG.tiff\n",
      "Calibrated:: a: 0.8293662652766903, b: 3.1279692595131623, weight: 7.1207990646362305\n",
      "  9%|▊         | 76/889 [34:13<8:30:15, 37.66s/it]\n",
      "Calibrating:: dst: DJI_20220324070227_0097_T.JPG.tiff\n",
      "Matching:: src: DJI_20220324070230_0098_T.JPG.tiff\n"
     ]
    },
    {
     "name": "stdout",
     "output_type": "stream",
     "text": [
      "    1 image files updated\n"
     ]
    },
    {
     "name": "stderr",
     "output_type": "stream",
     "text": [
      "False; Maximum number of function evaluations has been exceeded.\n",
      "a: 0.6803595689964935, b: 2.446169635356945, weight: 4.6837053298950195\n",
      "Matching:: src: DJI_20220324070735_0198_T.JPG.tiff\n",
      "True; Optimization terminated successfully.\n",
      "a: 0.6616498015641011, b: 2.8580198148044644, weight: 5.094195365905762\n",
      "Matching:: src: DJI_20220324070738_0199_T.JPG.tiff\n",
      "True; Optimization terminated successfully.\n",
      "a: 0.6572252734525006, b: 2.6470860070533884, weight: 4.954871654510498\n",
      "Matching:: src: DJI_20220324071003_0245_T.JPG.tiff\n",
      "True; Optimization terminated successfully.\n",
      "a: 0.6450544469140164, b: 2.3849601664208864, weight: 5.6692657470703125\n",
      "Matching:: src: DJI_20220324070233_0099_T.JPG.tiff\n",
      "True; Optimization terminated successfully.\n",
      "a: 0.6998470872330187, b: 2.3074077600431884, weight: 5.041019439697266\n",
      "Matching:: src: DJI_20220324070732_0197_T.JPG.tiff\n",
      "True; Optimization terminated successfully.\n",
      "a: 0.6530141163748656, b: 3.1163426501686375, weight: 5.378353118896484\n",
      "Matching:: src: DJI_20220324071006_0246_T.JPG.tiff\n",
      "True; Optimization terminated successfully.\n",
      "a: 0.6500678377406379, b: 2.7229547230932347, weight: 5.992976188659668\n",
      "Matching:: src: DJI_20220324071000_0244_T.JPG.tiff\n",
      "True; Optimization terminated successfully.\n",
      "a: 0.6445981001654312, b: 2.3250093997779246, weight: 5.200651168823242\n",
      "Matching:: src: DJI_20220324065955_0047_T.JPG.tiff\n",
      "True; Optimization terminated successfully.\n",
      "a: 0.5000000470339145, b: 1.739346143696837, weight: 1.5464314222335815\n",
      "Matching:: src: DJI_20220324070729_0196_T.JPG.tiff\n",
      "True; Optimization terminated successfully.\n",
      "a: 0.6422118405013607, b: 3.2584916192019424, weight: 5.582221031188965\n",
      "Matching:: src: DJI_20220324070236_0100_T.JPG.tiff\n",
      "True; Optimization terminated successfully.\n",
      "a: 0.7134641076918719, b: 2.591847176924752, weight: 5.223985195159912\n",
      "Matching:: src: DJI_20220324071009_0247_T.JPG.tiff\n",
      "True; Optimization terminated successfully.\n",
      "a: 0.6582474852625483, b: 2.8213785699172624, weight: 6.442298889160156\n",
      "Matching:: src: DJI_20220324071523_0350_T.JPG.tiff\n",
      "True; Optimization terminated successfully.\n",
      "a: 0.7143900217170494, b: 2.316381667738308, weight: 7.146930694580078\n",
      "Matching:: src: DJI_20220324071520_0349_T.JPG.tiff\n",
      "True; Optimization terminated successfully.\n",
      "a: 0.7386158635325024, b: 2.371865915290923, weight: 7.5936760902404785\n",
      "Matching:: src: DJI_20220324065952_0046_T.JPG.tiff\n",
      "True; Optimization terminated successfully.\n",
      "a: 0.5000003321873976, b: 1.727414616013784, weight: 1.2538974285125732\n",
      "Matching:: src: DJI_20220324071526_0351_T.JPG.tiff\n",
      "True; Optimization terminated successfully.\n",
      "a: 0.684092401380395, b: 2.256631390407512, weight: 6.445371627807617\n",
      "Matching:: src: DJI_20220324071517_0348_T.JPG.tiff\n",
      "True; Optimization terminated successfully.\n",
      "a: 0.7434070861180144, b: 2.105080413300129, weight: 8.172039031982422\n",
      "Matching:: src: DJI_20220324071012_0248_T.JPG.tiff\n",
      "True; Optimization terminated successfully.\n",
      "a: 0.6612968170154446, b: 2.9280081602402097, weight: 6.6081862449646\n",
      "Matching:: src: DJI_20220324070726_0195_T.JPG.tiff\n",
      "True; Optimization terminated successfully.\n",
      "a: 0.6676167329248877, b: 2.909074845579375, weight: 5.506775856018066\n",
      "Matching:: src: DJI_20220324071749_0397_T.JPG.tiff\n",
      "True; Optimization terminated successfully.\n",
      "a: 0.7104871818459944, b: 2.028858496054005, weight: 8.99658203125\n",
      "Matching:: src: DJI_20220324070239_0101_T.JPG.tiff\n",
      "False; Maximum number of function evaluations has been exceeded.\n",
      "/tmp/ipykernel_7266/1278678935.py:123: RuntimeWarning: More than 20 figures have been opened. Figures created through the pyplot interface (`matplotlib.pyplot.figure`) are retained until explicitly closed and may consume too much memory. (To control this warning, see the rcParam `figure.max_open_warning`). Consider using `matplotlib.pyplot.close()`.\n",
      "  fig, ax = plt.subplots(2,2)\n",
      "a: 0.7355127561447915, b: 3.0450108738113157, weight: 4.943718433380127\n",
      "Matching:: src: DJI_20220324071514_0347_T.JPG.tiff\n",
      "True; Optimization terminated successfully.\n",
      "a: 0.7585803121952197, b: 1.9709961408232317, weight: 8.753046035766602\n",
      "Matching:: src: DJI_20220324071746_0396_T.JPG.tiff\n",
      "True; Optimization terminated successfully.\n",
      "a: 0.6927803024451512, b: 2.076815580313145, weight: 8.443460464477539\n",
      "Matching:: src: DJI_20220324071752_0398_T.JPG.tiff\n",
      "True; Optimization terminated successfully.\n",
      "a: 0.7384833293224838, b: 1.6989906832544202, weight: 9.701791763305664\n",
      "Matching:: src: DJI_20220324071755_0399_T.JPG.tiff\n",
      "True; Optimization terminated successfully.\n",
      "a: 0.6993260575619652, b: 1.6574832094078085, weight: 9.987756729125977\n",
      "Matching:: src: DJI_20220324071015_0249_T.JPG.tiff\n",
      "True; Optimization terminated successfully.\n",
      "a: 0.67087073905604, b: 3.033714607135026, weight: 6.251720428466797\n",
      "Matching:: src: DJI_20220324065949_0045_T.JPG.tiff\n",
      "True; Optimization terminated successfully.\n",
      "a: 0.5000000470339145, b: 1.372855702591067, weight: 1.0372169017791748\n",
      "Matching:: src: DJI_20220324071511_0346_T.JPG.tiff\n",
      "True; Optimization terminated successfully.\n",
      "a: 0.7586971517181829, b: 1.845553135202982, weight: 8.63398265838623\n",
      "Matching:: src: DJI_20220324071758_0400_T.JPG.tiff\n",
      "True; Optimization terminated successfully.\n",
      "a: 0.6842180285209435, b: 1.785198451576077, weight: 10.04342269897461\n",
      "Matching:: src: DJI_20220324070723_0194_T.JPG.tiff\n",
      "True; Optimization terminated successfully.\n",
      "a: 0.5563014955484521, b: 2.140154082610196, weight: 2.849703788757324\n",
      "Matching:: src: DJI_20220324071801_0401_T.JPG.tiff\n",
      "True; Optimization terminated successfully.\n",
      "a: 0.6583799152417191, b: 1.8388022670374917, weight: 9.615629196166992\n",
      "Matching:: src: DJI_20220324071508_0345_T.JPG.tiff\n",
      "/tmp/ipykernel_7266/1278678935.py:57: RuntimeWarning: All-NaN slice encountered\n",
      "  min_val = np.floor(np.nanmin(arr)*10)/10\n",
      "/tmp/ipykernel_7266/1278678935.py:58: RuntimeWarning: All-NaN slice encountered\n",
      "  max_val = np.ceil(np.nanmax(arr)*10)/10\n",
      "  9%|▊         | 76/889 [35:01<6:14:44, 27.66s/it]\n"
     ]
    },
    {
     "ename": "ValueError",
     "evalue": "arange: cannot compute length",
     "output_type": "error",
     "traceback": [
      "\u001b[0;31m---------------------------------------------------------------------------\u001b[0m",
      "\u001b[0;31mValueError\u001b[0m                                Traceback (most recent call last)",
      "Cell \u001b[0;32mIn[35], line 101\u001b[0m\n\u001b[1;32m     99\u001b[0m dst_clip \u001b[39m=\u001b[39m nan_gaussian_filter(dst_clip, sigma\u001b[39m=\u001b[39mCFG\u001b[39m.\u001b[39mGAUSS_SIGMA)\n\u001b[1;32m    100\u001b[0m src_hist \u001b[39m=\u001b[39m calc_hist(src_clip)\n\u001b[0;32m--> 101\u001b[0m dst_hist \u001b[39m=\u001b[39m calc_hist(dst_clip)\n\u001b[1;32m    102\u001b[0m result \u001b[39m=\u001b[39m minimize(loss_function, x0\u001b[39m=\u001b[39m(\u001b[39m1.0\u001b[39m,\u001b[39m0.0\u001b[39m), args\u001b[39m=\u001b[39m(src_clip, dst_clip), tol\u001b[39m=\u001b[39m\u001b[39m1e-3\u001b[39m, method\u001b[39m=\u001b[39m\u001b[39m'\u001b[39m\u001b[39mPowell\u001b[39m\u001b[39m'\u001b[39m, bounds\u001b[39m=\u001b[39m[(\u001b[39m0.5\u001b[39m,\u001b[39m1.5\u001b[39m),(\u001b[39m-\u001b[39m\u001b[39m10.\u001b[39m,\u001b[39m10.\u001b[39m)])\n\u001b[1;32m    103\u001b[0m logger\u001b[39m.\u001b[39minfo(\u001b[39mf\u001b[39m\u001b[39m\"\u001b[39m\u001b[39m{\u001b[39;00mresult\u001b[39m.\u001b[39msuccess\u001b[39m}\u001b[39;00m\u001b[39m; \u001b[39m\u001b[39m{\u001b[39;00mresult\u001b[39m.\u001b[39mmessage\u001b[39m}\u001b[39;00m\u001b[39m\"\u001b[39m)\n",
      "Cell \u001b[0;32mIn[35], line 59\u001b[0m, in \u001b[0;36mcalc_hist\u001b[0;34m(arr)\u001b[0m\n\u001b[1;32m     57\u001b[0m min_val \u001b[39m=\u001b[39m np\u001b[39m.\u001b[39mfloor(np\u001b[39m.\u001b[39mnanmin(arr)\u001b[39m*\u001b[39m\u001b[39m10\u001b[39m)\u001b[39m/\u001b[39m\u001b[39m10\u001b[39m\n\u001b[1;32m     58\u001b[0m max_val \u001b[39m=\u001b[39m np\u001b[39m.\u001b[39mceil(np\u001b[39m.\u001b[39mnanmax(arr)\u001b[39m*\u001b[39m\u001b[39m10\u001b[39m)\u001b[39m/\u001b[39m\u001b[39m10\u001b[39m\n\u001b[0;32m---> 59\u001b[0m bins \u001b[39m=\u001b[39m  np\u001b[39m.\u001b[39;49marange(min_val, max_val, \u001b[39m0.1\u001b[39;49m)\n\u001b[1;32m     60\u001b[0m histogram \u001b[39m=\u001b[39m np\u001b[39m.\u001b[39mhistogram(arr, bins\u001b[39m=\u001b[39mbins, density\u001b[39m=\u001b[39m\u001b[39mFalse\u001b[39;00m)\n\u001b[1;32m     61\u001b[0m x \u001b[39m=\u001b[39m histogram[\u001b[39m1\u001b[39m][:\u001b[39m-\u001b[39m\u001b[39m1\u001b[39m]\n",
      "\u001b[0;31mValueError\u001b[0m: arange: cannot compute length"
     ]
    },
    {
     "data": {
      "text/plain": [
       "<Figure size 640x480 with 0 Axes>"
      ]
     },
     "metadata": {},
     "output_type": "display_data"
    },
    {
     "data": {
      "text/plain": [
       "<Figure size 640x480 with 0 Axes>"
      ]
     },
     "metadata": {},
     "output_type": "display_data"
    },
    {
     "data": {
      "text/plain": [
       "<Figure size 640x480 with 0 Axes>"
      ]
     },
     "metadata": {},
     "output_type": "display_data"
    },
    {
     "data": {
      "text/plain": [
       "<Figure size 640x480 with 0 Axes>"
      ]
     },
     "metadata": {},
     "output_type": "display_data"
    },
    {
     "data": {
      "text/plain": [
       "<Figure size 640x480 with 0 Axes>"
      ]
     },
     "metadata": {},
     "output_type": "display_data"
    },
    {
     "data": {
      "text/plain": [
       "<Figure size 640x480 with 0 Axes>"
      ]
     },
     "metadata": {},
     "output_type": "display_data"
    },
    {
     "data": {
      "text/plain": [
       "<Figure size 640x480 with 0 Axes>"
      ]
     },
     "metadata": {},
     "output_type": "display_data"
    },
    {
     "data": {
      "text/plain": [
       "<Figure size 640x480 with 0 Axes>"
      ]
     },
     "metadata": {},
     "output_type": "display_data"
    },
    {
     "data": {
      "text/plain": [
       "<Figure size 640x480 with 0 Axes>"
      ]
     },
     "metadata": {},
     "output_type": "display_data"
    },
    {
     "data": {
      "text/plain": [
       "<Figure size 640x480 with 0 Axes>"
      ]
     },
     "metadata": {},
     "output_type": "display_data"
    },
    {
     "data": {
      "text/plain": [
       "<Figure size 640x480 with 0 Axes>"
      ]
     },
     "metadata": {},
     "output_type": "display_data"
    },
    {
     "data": {
      "text/plain": [
       "<Figure size 640x480 with 0 Axes>"
      ]
     },
     "metadata": {},
     "output_type": "display_data"
    },
    {
     "data": {
      "text/plain": [
       "<Figure size 640x480 with 0 Axes>"
      ]
     },
     "metadata": {},
     "output_type": "display_data"
    },
    {
     "data": {
      "text/plain": [
       "<Figure size 640x480 with 0 Axes>"
      ]
     },
     "metadata": {},
     "output_type": "display_data"
    },
    {
     "data": {
      "text/plain": [
       "<Figure size 640x480 with 0 Axes>"
      ]
     },
     "metadata": {},
     "output_type": "display_data"
    },
    {
     "data": {
      "text/plain": [
       "<Figure size 640x480 with 0 Axes>"
      ]
     },
     "metadata": {},
     "output_type": "display_data"
    },
    {
     "data": {
      "text/plain": [
       "<Figure size 640x480 with 0 Axes>"
      ]
     },
     "metadata": {},
     "output_type": "display_data"
    },
    {
     "data": {
      "text/plain": [
       "<Figure size 640x480 with 0 Axes>"
      ]
     },
     "metadata": {},
     "output_type": "display_data"
    },
    {
     "data": {
      "text/plain": [
       "<Figure size 640x480 with 0 Axes>"
      ]
     },
     "metadata": {},
     "output_type": "display_data"
    },
    {
     "data": {
      "text/plain": [
       "<Figure size 640x480 with 0 Axes>"
      ]
     },
     "metadata": {},
     "output_type": "display_data"
    },
    {
     "data": {
      "text/plain": [
       "<Figure size 640x480 with 0 Axes>"
      ]
     },
     "metadata": {},
     "output_type": "display_data"
    },
    {
     "data": {
      "text/plain": [
       "<Figure size 640x480 with 0 Axes>"
      ]
     },
     "metadata": {},
     "output_type": "display_data"
    },
    {
     "data": {
      "text/plain": [
       "<Figure size 640x480 with 0 Axes>"
      ]
     },
     "metadata": {},
     "output_type": "display_data"
    },
    {
     "data": {
      "text/plain": [
       "<Figure size 640x480 with 0 Axes>"
      ]
     },
     "metadata": {},
     "output_type": "display_data"
    },
    {
     "data": {
      "text/plain": [
       "<Figure size 640x480 with 0 Axes>"
      ]
     },
     "metadata": {},
     "output_type": "display_data"
    },
    {
     "data": {
      "text/plain": [
       "<Figure size 640x480 with 0 Axes>"
      ]
     },
     "metadata": {},
     "output_type": "display_data"
    },
    {
     "data": {
      "text/plain": [
       "<Figure size 640x480 with 0 Axes>"
      ]
     },
     "metadata": {},
     "output_type": "display_data"
    },
    {
     "data": {
      "text/plain": [
       "<Figure size 640x480 with 0 Axes>"
      ]
     },
     "metadata": {},
     "output_type": "display_data"
    },
    {
     "data": {
      "text/plain": [
       "<Figure size 640x480 with 0 Axes>"
      ]
     },
     "metadata": {},
     "output_type": "display_data"
    },
    {
     "data": {
      "text/plain": [
       "<Figure size 640x480 with 0 Axes>"
      ]
     },
     "metadata": {},
     "output_type": "display_data"
    },
    {
     "data": {
      "text/plain": [
       "<Figure size 640x480 with 0 Axes>"
      ]
     },
     "metadata": {},
     "output_type": "display_data"
    }
   ],
   "source": [
    "logger.info(f\"Clearing {TIFF_CAL_DIR}\")\n",
    "recreate_dir(TIFF_CAL_DIR)\n",
    "logger.info(f\"Clearing {GEOTIFF_CAL_DIR}\")\n",
    "recreate_dir(GEOTIFF_CAL_DIR)\n",
    "logger.info(f\"Clearing {PLOT_CLIP_DIR}\")\n",
    "recreate_dir(PLOT_CLIP_DIR)\n",
    "logger.info(f\"Clearing {PLOT_CAL_DIR}\")\n",
    "recreate_dir(PLOT_CAL_DIR)\n",
    "\n",
    "logger.info(\"Initializing columns\")\n",
    "footprints['a_std']=None\n",
    "footprints['b_std']=None\n",
    "footprints['weight']=None\n",
    "footprints['a']=None\n",
    "footprints['b']=None\n",
    "footprints['calibrated']=False\n",
    "\n",
    "logger.info(\"Setting start refrence img\")\n",
    "name = CFG.START_IMG\n",
    "raster = rxr.open_rasterio(os.path.join(GEOTIFF_OPTIM_DIR, name), masked=True)\n",
    "raster.rio.to_raster(os.path.join(GEOTIFF_CAL_DIR, name))\n",
    "footprints.loc[footprints['name'] == name, 'offset'] = 0\n",
    "footprints.loc[footprints['name'] == name, 'calibrated'] = True\n",
    "footprints.loc[footprints['name'] == name, 'std'] = 0.0\n",
    "footprints.loc[footprints['name'] == name, 'weight'] = None\n",
    "start_point = footprints.loc[footprints['name'] == name, 'geometry'].centroid.values[0]\n",
    "logger.info(\"Setting the calibration order\")\n",
    "id_dists = []\n",
    "for id_i, row_i in tqdm(footprints.iterrows()):\n",
    "    dist = row_i['geometry'].centroid.distance(start_point)\n",
    "    if not row_i['calibrated']:\n",
    "        id_dists.append({\"id\": id_i, \"dist\": dist})\n",
    "id_dists = sorted(id_dists, key=lambda k: k['dist'])\n",
    "\n",
    "def nan_gaussian_filter(arr, sigma):\n",
    "    \"\"\"Apply gaussian filter to array while ignoring nans\"\"\"\n",
    "    V=arr.copy()\n",
    "    V[np.isnan(arr)]=0\n",
    "    VV=gaussian_filter(V,sigma=sigma)\n",
    "    W=0*arr.copy()+1\n",
    "    W[np.isnan(arr)]=0\n",
    "    WW=gaussian_filter(W,sigma=sigma)\n",
    "    Z=VV/WW\n",
    "    Z[np.isnan(arr)]=np.nan\n",
    "    return Z\n",
    "\n",
    "# def loss_function(x, src_hist, dst_hist):\n",
    "#     dst_y_new = np.interp(src_hist[\"x\"], x[0]*dst_hist[\"x\"]+x[1], dst_hist[\"y\"], left=0.0, right=0.0)\n",
    "#     mae = np.mean(np.abs(src_hist[\"y\"]-dst_y_new))\n",
    "#     return mae\n",
    "\n",
    "def loss_function(x, src_arr, dst_arr):\n",
    "    mse = np.nanmean((src_arr - (x[0]*dst_arr+x[1]))**2)\n",
    "    return mse\n",
    "\n",
    "def calc_hist(arr):\n",
    "    min_val = np.floor(np.nanmin(arr)*10)/10\n",
    "    max_val = np.ceil(np.nanmax(arr)*10)/10\n",
    "    bins =  np.arange(min_val, max_val, 0.1)\n",
    "    histogram = np.histogram(arr, bins=bins, density=False)\n",
    "    x = histogram[1][:-1]\n",
    "    y = histogram[0]\n",
    "    # interpolate to 0.01\n",
    "    # x_new = np.arange(min_val, max_val, 0.01)\n",
    "    # y_new = np.interp(x_new, x, y)\n",
    "    return {\"x\": x, \"y\": y}\n",
    "\n",
    "logger.info(\"Calibrating pairs\")\n",
    "for id_dist in tqdm(id_dists):\n",
    "    dst_id = id_dist['id']\n",
    "    dst = footprints.iloc[dst_id]\n",
    "    if dst['calibrated']:\n",
    "        logger.info(f\"{dst['name']} already calibrated, skipping\")\n",
    "        continue\n",
    "    dst_raster = rxr.open_rasterio(f\"{GEOTIFF_OPTIM_DIR}/{dst['name']}\", masked=True)\n",
    "    a_arr = []\n",
    "    b_arr = []\n",
    "    weights = []\n",
    "    logger.info(f\"\")\n",
    "    logger.info(f\"Calibrating:: dst: {dst['name']}\")\n",
    "    for inter in footprints.iloc[dst_id]['intersect']:\n",
    "        if footprints.iloc[inter['id']]['calibrated']:\n",
    "            src_id = inter['id']\n",
    "            src = footprints.iloc[src_id]\n",
    "            src_raster = rxr.open_rasterio(f\"{GEOTIFF_CAL_DIR}/{src['name']}\", masked=True)#.rio.clip([dst['geometry']])\n",
    "            logger.info(f\"Matching:: src: {src['name']}\")\n",
    "            intersection = src['geometry'].intersection(dst['geometry'])\n",
    "            try:\n",
    "                src_clip = src_raster.rio.clip([intersection])\n",
    "                dst_clip = dst_raster.rio.clip([intersection])\n",
    "            except NoDataInBounds:\n",
    "                logger.info(f\"NoDataInBounds\")\n",
    "                continue\n",
    "            dst_clip = dst_clip.rio.reproject_match(src_clip)\n",
    "            src_clip = src_clip.values[0]\n",
    "            dst_clip = dst_clip.values[0]\n",
    "\n",
    "            src_clip = nan_gaussian_filter(src_clip, sigma=CFG.GAUSS_SIGMA)\n",
    "            dst_clip = nan_gaussian_filter(dst_clip, sigma=CFG.GAUSS_SIGMA)\n",
    "            src_hist = calc_hist(src_clip)\n",
    "            dst_hist = calc_hist(dst_clip)\n",
    "            result = minimize(loss_function, x0=(1.0,0.0), args=(src_clip, dst_clip), tol=1e-3, method='Powell', bounds=[(0.5,1.5),(-10.,10.)])\n",
    "            logger.info(f\"{result.success}; {result.message}\")\n",
    "            a = result.x[0]\n",
    "            b = result.x[1]\n",
    "            #plot src_hist, dst_hist, dst_hist_new on one plot using line\n",
    "            # plt.plot(src_hist[\"x\"], src_hist[\"y\"], label=\"src\")\n",
    "            # plt.plot(dst_hist[\"x\"], dst_hist[\"y\"], label=\"dst\")\n",
    "            # plt.plot(a*dst_hist[\"x\"]+b, dst_hist[\"y\"], label=\"dst_new\")\n",
    "            # plt.legend()\n",
    "            # plt.savefig(f\"{HIST_DIR}/{dst['name'][:-5]}_{src['name'][:-5]}.png\")\n",
    "            # # clear plot\n",
    "            # plt.clf()\n",
    "            # diff = (src_clip-dst_clip)\n",
    "            # diff_before = diff.copy()\n",
    "            # #remove values outside of 1 std in 2d array\n",
    "            # diff[np.abs(diff - np.nanmean(diff)) > np.nanstd(diff)] = np.nan\n",
    "            # #plot src_clip, dst_clip, diff_before, diff images\n",
    "            # 4 subplots\n",
    "            dst_clip_cal = a*dst_clip+b\n",
    "            diff = src_clip - dst_clip_cal\n",
    "            dst_cal_hist = calc_hist(dst_clip_cal)\n",
    "            fig, ax = plt.subplots(2,2)\n",
    "            #title\n",
    "            fig.suptitle(f\"a={a}, b={b}\")\n",
    "            ax[0,0].imshow(src_clip)\n",
    "            ax[0,1].imshow(dst_clip)\n",
    "            diff_plt = ax[1,0].imshow(diff, cmap='coolwarm')\n",
    "            plt.colorbar(diff_plt, ax=ax[1,0])\n",
    "            ax[1,1].plot(src_hist[\"x\"], src_hist[\"y\"], label=\"src\", color='blue', linestyle='dashed')\n",
    "            ax[1,1].plot(dst_hist[\"x\"], dst_hist[\"y\"], label=\"dst\", color='red')\n",
    "            ax[1,1].plot(dst_cal_hist[\"x\"], dst_cal_hist[\"y\"], label=\"dst_cal\", color='green')\n",
    "            plt.legend()\n",
    "            plt.savefig(f\"{PLOT_CLIP_DIR}/{dst['name'][:-5]}_{src['name'][:-5]}.png\", dpi=150)\n",
    "            plt.clf()\n",
    "            # im1 = ax[1,0].imshow(diff_before, cmap='coolwarm')\n",
    "            # bar1 = plt.colorbar(im1, ax=ax[1,0])\n",
    "            # im2 = ax[1,1].imshow(diff, cmap='coolwarm')\n",
    "            # bar2 = plt.colorbar(im2, ax=ax[1,1])\n",
    "            # #save plot to file\n",
    "            #plt.savefig(f\"{CLIP_DIR}/{dst['name'][:-5]}_{src['name'][:-5]}.png\")\n",
    "            #clear plot\n",
    "            \n",
    "            weight = np.nanstd(src_clip)+np.nanstd(dst_clip)#inter['area']#1./ #1/result.fun\n",
    "            #logger.info(f\"{weight} (weight) = {src['std']} (source STD))\n",
    "            # offset = np.nanmean(diff)\n",
    "            #assert offset is not nan\n",
    "            if np.isnan(a) or np.isnan(b):\n",
    "                logger.info(f\"a or b is nan\")\n",
    "                continue\n",
    "            logger.info(f\"a: {a}, b: {b}, weight: {weight}\")\n",
    "            a_arr.append(a)\n",
    "            b_arr.append(b)\n",
    "            # offsets.append(offset)\n",
    "            weights.append(weight)\n",
    "        \n",
    "    a_arr = np.array(a_arr)\n",
    "    b_arr = np.array(b_arr)\n",
    "    weights = np.array(weights)\n",
    "    # offsets_all = offsets.copy()\n",
    "    # weights_all = weights.copy()\n",
    "    # if len(offsets) > 1:\n",
    "    #     indices = np.abs(offsets - np.mean(offsets)) < 2*np.std(offsets) #remove outliers\n",
    "    #     offsets = offsets[indices]\n",
    "    #     weights = weights[indices]\n",
    "    weight = weights.mean()\n",
    "    a = (a_arr*weights).sum()/weights.sum()\n",
    "    b = (b_arr*weights).sum()/weights.sum()\n",
    "\n",
    "    #Display\n",
    "    display.clear_output(wait=True)\n",
    "    #create two subplots\n",
    "    fig, (ax1, ax2, ax3) = plt.subplots(1, 3, figsize=(10,4))\n",
    "    # set figure title\n",
    "    fig.suptitle(f\"{dst['name']}\")\n",
    "    #plot offsets against weights\n",
    "    #ax1.scatter(offsets_all, weights_all, s=100, color='red')\n",
    "    ax1.scatter(a_arr, weights, s=100, color='green')\n",
    "    ax1.set_xlabel('a')\n",
    "    ax1.set_ylabel('weight')\n",
    "    ax1.axvline(a, color='r')\n",
    "    ax2.scatter(b_arr, weights, s=100, color='green')\n",
    "    ax2.set_xlabel('b')\n",
    "    ax2.set_ylabel('weight')\n",
    "    ax2.axvline(b, color='r')\n",
    "    # plot points\n",
    "    #plot footprints centroids where calibrated=False\n",
    "    footprints[footprints['calibrated']==False].centroid.plot(ax=ax3, color='red', markersize=10)\n",
    "    #plot footprints centroids where calibrated=True\n",
    "    footprints[footprints['calibrated']==True].centroid.plot(ax=ax3, color='green', markersize=10)\n",
    "    #hide axis\n",
    "    ax3.axis('off')\n",
    "    plt.savefig(f\"{PLOT_CAL_DIR}/{dst['name'][:-5]}.png\")\n",
    "    plt.show()\n",
    "    #save figure\n",
    "   \n",
    "    a_std = np.sqrt(np.average((a_arr-a)**2, weights=weights)) if len(a_arr) > 1 else 0.0\n",
    "    b_std = np.sqrt(np.average((b_arr-b)**2, weights=weights)) if len(b_arr) > 1 else 0.0\n",
    "    #std = np.std(offsets) if len(offsets) > 1 else 0.0\n",
    "    footprints.loc[dst_id, 'a_std'] = a_std\n",
    "    footprints.loc[dst_id, 'b_std'] = b_std\n",
    "    footprints.loc[dst_id, 'weight'] = weight\n",
    "    footprints.loc[dst_id, 'a'] = a\n",
    "    footprints.loc[dst_id, 'b'] = b\n",
    "    footprints.loc[dst_id, 'calibrated'] = True\n",
    "    dst_raster.values = a*dst_raster.values + b\n",
    "    dst_raster.rio.to_raster(f\"{GEOTIFF_CAL_DIR}/{dst['name']}\")\n",
    "    tiff = rxr.open_rasterio(f\"{TIFF_DIR}/{dst['name']}\")\n",
    "    tiff.values = (a*tiff.values+b)\n",
    "    tiff.rio.to_raster(f\"{TIFF_CAL_DIR}/{dst['name']}\")\n",
    "    os.system(f\"exiftool -tagsfromfile {TIFF_DIR}/{dst['name']} {TIFF_CAL_DIR}/{dst['name']} -overwrite_original_in_place\")\n",
    "    logger.info(f\"Calibrated:: a: {a}, b: {b}, weight: {weight}\")"
   ]
  },
  {
   "cell_type": "code",
   "execution_count": 30,
   "metadata": {},
   "outputs": [
    {
     "data": {
      "text/plain": [
       "array([[8.332662,      nan,      nan,      nan,      nan,      nan,\n",
       "             nan,      nan],\n",
       "       [     nan, 8.333278, 8.333836,      nan,      nan,      nan,\n",
       "             nan,      nan],\n",
       "       [     nan,      nan, 8.334128, 8.33461 ,      nan,      nan,\n",
       "             nan,      nan],\n",
       "       [     nan,      nan, 8.334237, 8.33441 , 8.334541,      nan,\n",
       "             nan,      nan],\n",
       "       [     nan,      nan,      nan, 8.33382 , 8.333628, 8.333477,\n",
       "             nan,      nan],\n",
       "       [     nan,      nan,      nan, 8.332919, 8.332481, 8.332165,\n",
       "        8.331984, 8.33191 ],\n",
       "       [     nan,      nan,      nan,      nan, 8.331397, 8.331004,\n",
       "        8.330789,      nan],\n",
       "       [     nan,      nan,      nan,      nan,      nan, 8.330316,\n",
       "             nan,      nan]], dtype=float32)"
      ]
     },
     "execution_count": 30,
     "metadata": {},
     "output_type": "execute_result"
    }
   ],
   "source": [
    "src_clip"
   ]
  },
  {
   "attachments": {},
   "cell_type": "markdown",
   "metadata": {},
   "source": [
    "Merge rasters"
   ]
  },
  {
   "cell_type": "code",
   "execution_count": null,
   "metadata": {},
   "outputs": [
    {
     "ename": "",
     "evalue": "",
     "output_type": "error",
     "traceback": [
      "\u001b[1;31mFailed to start the Kernel. \n",
      "\u001b[1;31mUnable to start Kernel 'Python 3.9.2' due to connection timeout. \n",
      "\u001b[1;31mView Jupyter <a href='command:jupyter.viewOutput'>log</a> for further details."
     ]
    }
   ],
   "source": [
    "def average_merge(merged_data, new_data, merged_mask, new_mask, index=None, roff=None, coff=None):\n",
    "    merged_data_masked = np.ma.array(merged_data, mask=merged_mask)\n",
    "    merged_data[:] = np.ma.masked_array((merged_data_masked,new_data)).mean(axis=0)\n",
    "rasters = []\n",
    "for path in tqdm(glob(f\"{GEOTIFF_CAL_DIR}/*.tiff\"), desc=\"Loading rasters\"):\n",
    "    rasters.append(rxr.open_rasterio(path, masked=True).copy())\n",
    "print(\"Merging...\")\n",
    "mosaic = merge_arrays(rasters, method=average_merge)\n",
    "mosaic.rio.to_raster(f\"{DATA_DIR}/mosaic_cal.tiff\")\n",
    "print(\"Merging done\")"
   ]
  }
 ],
 "metadata": {
  "kernelspec": {
   "display_name": "Python 3",
   "language": "python",
   "name": "python3"
  },
  "language_info": {
   "codemirror_mode": {
    "name": "ipython",
    "version": 3
   },
   "file_extension": ".py",
   "mimetype": "text/x-python",
   "name": "python",
   "nbconvert_exporter": "python",
   "pygments_lexer": "ipython3",
   "version": "3.9.2"
  },
  "orig_nbformat": 4,
  "vscode": {
   "interpreter": {
    "hash": "31f2aee4e71d21fbe5cf8b01ff0e069b9275f58929596ceb00d14d90e3e16cd6"
   }
  }
 },
 "nbformat": 4,
 "nbformat_minor": 2
}
