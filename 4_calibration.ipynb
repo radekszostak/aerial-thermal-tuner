{
 "cells": [
  {
   "cell_type": "code",
   "execution_count": 21,
   "metadata": {},
   "outputs": [],
   "source": [
    "import os\n",
    "from datetime import datetime\n",
    "# import shutil\n",
    "from glob import glob\n",
    "import rioxarray as rxr\n",
    "from rioxarray.exceptions import NoDataInBounds\n",
    "import rasterio.features\n",
    "import numpy as np\n",
    "import geopandas as gpd\n",
    "from shapely.geometry import Polygon\n",
    "from tqdm import tqdm\n",
    "import matplotlib.pyplot as plt\n",
    "from rasterio.errors import NotGeoreferencedWarning\n",
    "import warnings\n",
    "import torch\n",
    "import pandas as pd\n",
    "import pickle\n",
    "import cv2\n",
    "from multiprocessing import Pool\n",
    "warnings.filterwarnings(\"ignore\", category=NotGeoreferencedWarning)\n",
    "np.seterr(divide='ignore', invalid='ignore')\n",
    "from util import recreate_dir, load_config\n",
    "from p_tqdm import p_map\n"
   ]
  },
  {
   "cell_type": "code",
   "execution_count": 22,
   "metadata": {},
   "outputs": [],
   "source": [
    "DATA_DIR = \"data/20220324_kocinka_rybna\"\n",
    "CFG = load_config(f\"{DATA_DIR}/config.py\").CALIBRATION"
   ]
  },
  {
   "cell_type": "code",
   "execution_count": 23,
   "metadata": {},
   "outputs": [],
   "source": [
    "#configure logging to file\n",
    "import logging\n",
    "log_path = f\"{DATA_DIR}/logs/calibration_{datetime.now().strftime('%d%m%Y%H%M%S')}.log\"\n",
    "os.makedirs(os.path.dirname(log_path), exist_ok=True)\n",
    "logging.basicConfig(filename=log_path,level=logging.INFO, format='%(asctime)s %(levelname)-8s %(message)s', datefmt='%Y-%m-%d %H:%M:%S')\n",
    "logger = logging.getLogger(__name__)\n",
    "logger.handlers.clear()\n",
    "#logger.addHandler(logging.StreamHandler())\n",
    "logger.info(\"Starting procedure\")"
   ]
  },
  {
   "cell_type": "code",
   "execution_count": 24,
   "metadata": {},
   "outputs": [],
   "source": [
    "TMP_DIR = f\"{DATA_DIR}/tmp\"\n",
    "recreate_dir(TMP_DIR)\n",
    "TIF_DEVIGNETTE_DIR = f\"{DATA_DIR}/tif_devignette\"\n",
    "assert os.path.exists(TIF_DEVIGNETTE_DIR), \"TIF_DEVIGNETT_DIR does not exist. Please run 2_devignetting.ipynb first.\"\n",
    "GEOTIF_DEVIGNETTE_DIR = f\"{DATA_DIR}/geotif_devignette\"\n",
    "assert os.path.exists(GEOTIF_DEVIGNETTE_DIR), \"GEOTIF_DEVIGNETT_DIR does not exist. Please run 2_devignetting.ipynb first.\"\n",
    "\n",
    "TIF_CAL_DIR = f\"{DATA_DIR}/tif_cal\"\n",
    "GEOTIF_CAL_DIR = f\"{DATA_DIR}/geotif_cal\"\n",
    "\n",
    "# PLOT_CLIP_DIR = f\"{DATA_DIR}/plot_clip\"\n",
    "# PLOT_CAL_DIR = f\"{DATA_DIR}/plot_cal\"\n",
    "CACHE_DIR = f\"{DATA_DIR}/cache\"\n",
    "os.makedirs(CACHE_DIR, exist_ok=True)\n",
    "# TEMP_OPTIM_DATASET_DIR = f\"{DATA_DIR}/temp_optim_dataset\"\n",
    "# I_CLIP_DIR = f\"{TEMP_OPTIM_DATASET_DIR}/i_clip\"\n",
    "# J_CLIP_DIR = f\"{TEMP_OPTIM_DATASET_DIR}/j_clip\"\n",
    "# CLIP_MASK_DIR = f\"{TEMP_OPTIM_DATASET_DIR}/clip_mask\""
   ]
  },
  {
   "cell_type": "code",
   "execution_count": 25,
   "metadata": {},
   "outputs": [
    {
     "data": {
      "application/vnd.jupyter.widget-view+json": {
       "model_id": "c23dcc6b30e0454588468ed52171328b",
       "version_major": 2,
       "version_minor": 0
      },
      "text/plain": [
       "  0%|          | 0/452 [00:00<?, ?it/s]"
      ]
     },
     "metadata": {},
     "output_type": "display_data"
    }
   ],
   "source": [
    "# if CFG.CACHE and os.path.exists(f\"{CACHE_DIR}/footprints.pkl\"):\n",
    "#     logger.info(\"Loading footprints from cache\")\n",
    "#     with open(f\"{CACHE_DIR}/footprints.pkl\", \"rb\") as f:\n",
    "#         footprints = pickle.load(f)\n",
    "# else:\n",
    "logger.info(\"Reading footprints from geotifs\")\n",
    "geometries = []\n",
    "names = []\n",
    "timestamps = []\n",
    "def get_footprint(path):\n",
    "    raster = rxr.open_rasterio(path)\n",
    "    mean_val = raster.where(raster != raster.rio.nodata).mean().values.item()\n",
    "    footprints = rasterio.features.shapes((raster != raster.rio.nodata).values.astype(np.int16), transform=raster.rio.transform())\n",
    "    footprints = [Polygon(geom[\"coordinates\"][0]).simplify(10) for geom, colval in footprints if colval == 1]\n",
    "    assert len(footprints) == 1, \"More than one footprint found\"\n",
    "    name = os.path.basename(path)\n",
    "    return name, footprints[0], mean_val\n",
    "#use p_map\n",
    "names, geometries, mean_vals = zip(*p_map(get_footprint, glob(f\"{GEOTIF_DEVIGNETTE_DIR}/*.tif\")))\n",
    "\n",
    "footprints = gpd.GeoDataFrame({\"name\": names, \"geometry\": geometries, \"mean\": mean_vals})\n",
    "#write CRS\n",
    "footprints.crs = CFG.CRS\n",
    "# with open(f\"{CACHE_DIR}/footprints.pkl\", \"wb\") as f:\n",
    "#     pickle.dump(footprints, f)"
   ]
  },
  {
   "cell_type": "code",
   "execution_count": 26,
   "metadata": {},
   "outputs": [
    {
     "data": {
      "application/vnd.jupyter.widget-view+json": {
       "model_id": "48fe402060a94060b237fd8aff8f02cb",
       "version_major": 2,
       "version_minor": 0
      },
      "text/plain": [
       "  0%|          | 0/452 [00:00<?, ?it/s]"
      ]
     },
     "metadata": {},
     "output_type": "display_data"
    }
   ],
   "source": [
    "\n",
    "if CFG.CACHE and os.path.exists(f\"{CACHE_DIR}/calibration_pairs.pkl\"):\n",
    "    logger.info(\"Loading cached pairs\")\n",
    "    with open(f\"{CACHE_DIR}/calibration_pairs.pkl\", \"rb\") as f:\n",
    "        pairs_i, pairs_j, pairs_area, i_clips, j_clips, masks, diff_vars, i_means, j_means = pickle.load(f)\n",
    "else:\n",
    "    logger.info(\"Generating temprature global optimization dataset\")\n",
    "    #erode footprints\n",
    "    if CFG.EROSION > 0:\n",
    "        footprints[\"geometry\"] = footprints[\"geometry\"].buffer(-CFG.EROSION)\n",
    "    # recreate_dir(TEMP_OPTIM_DATASET_DIR)\n",
    "    # recreate_dir(I_CLIP_DIR)\n",
    "    # recreate_dir(J_CLIP_DIR)\n",
    "    # recreate_dir(CLIP_MASK_DIR)\n",
    "    # recreate_dir(PLOT_CLIP_DIR)\n",
    "\n",
    "    def get_dataset(i):\n",
    "        pairs_i = []\n",
    "        pairs_j = []\n",
    "        pairs_area = []\n",
    "        i_clips = []\n",
    "        j_clips = []\n",
    "        masks = []\n",
    "        diff_vars = []\n",
    "        i_means = []\n",
    "        j_means = []\n",
    "        i_raster = rxr.open_rasterio(f\"{GEOTIF_DEVIGNETTE_DIR}/{footprints.iloc[i]['name']}\", masked=True)\n",
    "        for j in range(i+1, len(footprints)):\n",
    "            if not footprints.iloc[i].geometry.intersects(footprints.iloc[j].geometry):\n",
    "                continue\n",
    "            intersection = footprints.iloc[i].geometry.intersection(footprints.iloc[j].geometry)\n",
    "            if intersection.area < CFG.MIN_INTERSECTION_AREA:\n",
    "                logger.info(f\"i ({i}), j ({j}): intersection area too small\")\n",
    "                continue\n",
    "            j_raster = rxr.open_rasterio(f\"{GEOTIF_DEVIGNETTE_DIR}/{footprints.iloc[j]['name']}\", masked=True)\n",
    "            try:\n",
    "                i_clip = i_raster.rio.clip([intersection])\n",
    "                j_clip = j_raster.rio.clip([intersection])\n",
    "            except NoDataInBounds:\n",
    "                logger.info(f\"i ({i}), j ({j}): NoDataInBounds\")\n",
    "                continue\n",
    "            j_clip = j_clip.rio.reproject_match(i_clip)\n",
    "            i_clip = i_clip.values[0]\n",
    "            j_clip = j_clip.values[0]\n",
    "            i_mean = np.nanmean(i_clip)\n",
    "            j_mean = np.nanmean(j_clip)\n",
    "            diff = i_clip - j_clip\n",
    "            #variance of difference\n",
    "            diff_var = np.nanvar(diff)\n",
    "            mask = (~np.isnan(i_clip) & ~np.isnan(j_clip)).astype(np.int16)\n",
    "            i_clip[np.isnan(i_clip)] = np.nanmean(i_clip)\n",
    "            j_clip[np.isnan(j_clip)] = np.nanmean(j_clip)\n",
    "\n",
    "            i_clip = cv2.resize(i_clip, (CFG.CLIP_SIZE, CFG.CLIP_SIZE), interpolation=cv2.INTER_LINEAR)\n",
    "            j_clip = cv2.resize(j_clip, (CFG.CLIP_SIZE, CFG.CLIP_SIZE), interpolation=cv2.INTER_LINEAR)\n",
    "            mask = cv2.resize(mask, (CFG.CLIP_SIZE, CFG.CLIP_SIZE), interpolation=cv2.INTER_NEAREST)\n",
    "            #assert i_clip, j_clip, mask dont have nans\n",
    "            if np.isnan(i_clip).any():\n",
    "                logger.info(f\"i ({i}), j ({j}): i_clip has nan\")\n",
    "                continue\n",
    "            if np.isnan(j_clip).any():\n",
    "                logger.info(f\"i ({i}), j ({j}): j_clip has nan\")\n",
    "                continue\n",
    "            if np.isnan(mask).any():\n",
    "                logger.info(f\"i ({i}), j ({j}): mask has nan\")\n",
    "                continue\n",
    "            pairs_i.append(i)\n",
    "            pairs_j.append(j)\n",
    "            pairs_area.append(intersection.area)\n",
    "            i_clips.append(i_clip)\n",
    "            j_clips.append(j_clip)\n",
    "            masks.append(mask)\n",
    "            diff_vars.append(diff_var)\n",
    "            i_means.append(i_mean)\n",
    "            j_means.append(j_mean)\n",
    "            \n",
    "        return pairs_i, pairs_j, pairs_area, i_clips, j_clips, masks, diff_vars, i_means, j_means\n",
    "    #use p_map\n",
    "    pairs_i, pairs_j, pairs_area, i_clips, j_clips, masks, diff_vars, i_means, j_means = zip(*p_map(get_dataset, range(len(footprints))))\n",
    "\n",
    "    #concatenate pairs\n",
    "    pairs_i = [item for sublist in pairs_i for item in sublist]\n",
    "    pairs_j = [item for sublist in pairs_j for item in sublist]\n",
    "    pairs_area = [item for sublist in pairs_area for item in sublist]\n",
    "    i_clips = [item for sublist in i_clips for item in sublist]\n",
    "    j_clips = [item for sublist in j_clips for item in sublist]\n",
    "    masks = [item for sublist in masks for item in sublist]\n",
    "    diff_vars = [item for sublist in diff_vars for item in sublist]\n",
    "    i_means = [item for sublist in i_means for item in sublist]\n",
    "    j_means = [item for sublist in j_means for item in sublist]\n",
    "    \n",
    "    #remove empty lists\n",
    "    # pairs_i = [_ for _ in pairs_i if len(_) > 0]\n",
    "    # pairs_j = [_ for _ in pairs_j if len(_) > 0]\n",
    "    # pairs_area = [_ for _ in pairs_area if len(_) > 0]\n",
    "    # i_clips = [_ for _ in i_clips if len(_) > 0]\n",
    "    # j_clips = [_ for _ in j_clips if len(_) > 0]\n",
    "    # masks = [_ for _ in masks if len(_) > 0]\n",
    "    # diff_vars = [_ for _ in diff_vars if len(_) > 0]\n",
    "    # i_means = [_ for _ in i_means if len(_) > 0]\n",
    "    # j_means = [_ for _ in j_means if len(_) > 0]\n",
    "\n",
    "    # pairs_i = np.concatenate(pairs_i)\n",
    "    # pairs_j = np.concatenate(pairs_j)\n",
    "    # pairs_area = np.concatenate(pairs_area)\n",
    "    # i_clips = np.concatenate(i_clips)\n",
    "    # j_clips = np.concatenate(j_clips)\n",
    "    # masks = np.concatenate(masks)\n",
    "    # diff_vars = np.concatenate(diff_vars)\n",
    "    # i_means = np.concatenate(i_means)\n",
    "    # j_means = np.concatenate(j_means)\n",
    "\n",
    "    assert len(pairs_i) == len(pairs_j) == len(pairs_area) == len(i_clips) == len(j_clips) == len(masks) == len(diff_vars) == len(i_means) == len(j_means), \"Lengths do not match\"\n",
    "    \n",
    "    with open(f\"{CACHE_DIR}/calibration_pairs.pkl\", \"wb\") as f:\n",
    "        pickle.dump((pairs_i, pairs_j, pairs_area, i_clips, j_clips, masks, diff_vars, i_means, j_means), f)"
   ]
  },
  {
   "cell_type": "code",
   "execution_count": null,
   "metadata": {},
   "outputs": [],
   "source": [
    "area_weights = np.array(pairs_area)#np.emath.logn(10, pairs_area)\n",
    "#normalize from 0 to 1\n",
    "area_weights = area_weights/area_weights.max()#(area_weights - areights.min()) / (area_weights.max() - area_weights.min())\n",
    "#var_weights = np.emath.logn(10, 1/diff_vars)\n",
    "#var_weights = (var_weights - var_weights.min()) / (var_weights.max() - var_weights.min())\n",
    "#weights = area_weights * var_weights\n",
    "weights = area_weights"
   ]
  },
  {
   "cell_type": "code",
   "execution_count": null,
   "metadata": {},
   "outputs": [
    {
     "name": "stderr",
     "output_type": "stream",
     "text": [
      "Epoch 238:   2%|▏         | 238/10000 [00:37<24:29,  6.64it/s, pixel_loss=0.132, mean_loss=1.67e-6, loss=0.132, a_mean=1, b_mean=-9.79e-6]"
     ]
    },
    {
     "name": "stdout",
     "output_type": "stream",
     "text": [
      "Epoch 00237: reducing learning rate of group 0 to 1.0000e-02.\n"
     ]
    },
    {
     "name": "stderr",
     "output_type": "stream",
     "text": [
      "Epoch 314:   3%|▎         | 314/10000 [00:49<28:02,  5.76it/s, pixel_loss=0.132, mean_loss=3.69e-6, loss=0.132, a_mean=1, b_mean=0.000347]"
     ]
    },
    {
     "name": "stdout",
     "output_type": "stream",
     "text": [
      "Epoch 00313: reducing learning rate of group 0 to 1.0000e-03.\n"
     ]
    },
    {
     "name": "stderr",
     "output_type": "stream",
     "text": [
      "Epoch 390:   4%|▍         | 390/10000 [01:01<24:06,  6.64it/s, pixel_loss=0.132, mean_loss=4.17e-7, loss=0.132, a_mean=1, b_mean=3.92e-5] "
     ]
    },
    {
     "name": "stdout",
     "output_type": "stream",
     "text": [
      "Epoch 00389: reducing learning rate of group 0 to 1.0000e-04.\n"
     ]
    },
    {
     "name": "stderr",
     "output_type": "stream",
     "text": [
      "Epoch 420:   4%|▍         | 420/10000 [01:06<25:17,  6.31it/s, pixel_loss=0.132, mean_loss=9.54e-9, loss=0.132, a_mean=1, b_mean=7.15e-7] "
     ]
    },
    {
     "name": "stdout",
     "output_type": "stream",
     "text": [
      "Early stopping\n"
     ]
    },
    {
     "name": "stderr",
     "output_type": "stream",
     "text": [
      "\n"
     ]
    }
   ],
   "source": [
    "#recreate_dir(PLOT_CLIP_DIR)\n",
    "\n",
    "n_images = len(footprints)\n",
    "device = torch.device(\"cuda\" if torch.cuda.is_available() else \"cpu\")\n",
    "\n",
    "pairs_i = torch.tensor(pairs_i, dtype=torch.int64, device=device) # (n_pairs,)\n",
    "pairs_j = torch.tensor(pairs_j, dtype=torch.int64, device=device) # (n_pairs,)\n",
    "i_means = torch.tensor(i_means, dtype=torch.float32, device=device) # (n_pairs,)\n",
    "j_means = torch.tensor(j_means, dtype=torch.float32, device=device) # (n_pairs,)\n",
    "image_means = torch.tensor(footprints[\"mean\"].values, dtype=torch.float32, device=device) # (n_images,)\n",
    "pairs_area = torch.tensor(pairs_area, dtype=torch.float32, device=device) # (n_pairs,)\n",
    "#pairs_var = torch.tensor(pairs_var, dtype=torch.float32, device=device) # (n_pairs,)\n",
    "i_clips = torch.tensor(i_clips, dtype=torch.float32, device=device) # (n_pairs, width, height)\n",
    "j_clips = torch.tensor(j_clips, dtype=torch.float32, device=device) # (n_pairs, width, height)\n",
    "masks = torch.tensor(masks, dtype=torch.float32, device=device) # (n_pairs, width, height)\n",
    "weights = torch.tensor(weights, dtype=torch.float32, device=device) # (n_pairs,)\n",
    "pairs_n_pixels = torch.sum(masks, dim=(1, 2)) # (n_pairs,)\n",
    "n_pixels = torch.sum(pairs_n_pixels) # (1,)\n",
    "#n_pixels_weighted = torch.sum(pairs_n_pixels * weights) # (1,)\n",
    "n_pairs = len(pairs_i) # (1,)\n",
    "\n",
    "i_clips_mean = torch.sum(i_clips * masks, dim=(1, 2)) / pairs_n_pixels # (n_pairs,)\n",
    "j_clips_mean = torch.sum(j_clips * masks, dim=(1, 2)) / pairs_n_pixels # (n_pairs,)\n",
    "i_clips_var = torch.sum(masks * (i_clips - i_clips_mean[:, None, None]) ** 2, dim=(1, 2)) / pairs_n_pixels # (n_pairs,)\n",
    "j_clips_var = torch.sum(masks * (j_clips - j_clips_mean[:, None, None]) ** 2, dim=(1, 2)) / pairs_n_pixels # (n_pairs,)\n",
    "a_coefs = torch.ones(n_images, dtype=torch.float32, device=device, requires_grad=False) # (n_images,)\n",
    "b_coefs = torch.zeros(n_images, dtype=torch.float32, device=device, requires_grad=True) # (n_images,)\n",
    "\n",
    "optimizer = torch.optim.Adam([b_coefs], lr=CFG.INIT_LR)#([a_coefs, b_coefs], lr=CFG.INIT_LR)\n",
    "scheduler = torch.optim.lr_scheduler.ReduceLROnPlateau(optimizer, mode=\"min\", factor=CFG.LR_PLATEAU_FACTOR, patience=CFG.LR_PLATEAU_PATIENCE, cooldown=CFG.LR_PLATEAU_COOLDOWN, threshold=CFG.LR_PLATEAU_THRESHOLD, verbose=True)\n",
    "pairs_i_copy = pairs_i.clone()\n",
    "pairs_j_copy = pairs_j.clone()\n",
    "best_loss = np.inf\n",
    "es_counter = 0\n",
    "pixel_losses = []\n",
    "mean_losses = []\n",
    "var_losses = []\n",
    "bias_losses = []\n",
    "for epoch in (pbar := tqdm(range(CFG.EPOCHS))):\n",
    "    #assert that pairs_i and pairs_j are equal to the original values\n",
    "    assert torch.all(pairs_i == pairs_i_copy)\n",
    "    assert torch.all(pairs_j == pairs_j_copy)\n",
    "    pbar.set_description(f\"Epoch {epoch}\")\n",
    "    optimizer.zero_grad()\n",
    "    i_clips_cal = a_coefs[pairs_i, None, None] * i_clips + b_coefs[pairs_i, None, None] # (n_pairs, width, height)\n",
    "    j_clips_cal = a_coefs[pairs_j, None, None] * j_clips + b_coefs[pairs_j, None, None] # (n_pairs, width, height)\n",
    "    image_means_cal = a_coefs * image_means + b_coefs # (n_images,)\n",
    "    # i_clips_cal_mean = torch.sum(i_clips_cal * masks, dim=(1, 2)) / pairs_n_pixels # (n_pairs,)\n",
    "    # j_clips_cal_mean = torch.sum(j_clips_cal * masks, dim=(1, 2)) / pairs_n_pixels # (n_pairs,)\n",
    "    # i_clips_cal_var = torch.sum(masks * (i_clips_cal - i_clips_cal_mean[:, None, None]) ** 2, dim=(1, 2)) / pairs_n_pixels # (n_pairs,)\n",
    "    # j_clips_cal_var = torch.sum(masks * (j_clips_cal - j_clips_cal_mean[:, None, None]) ** 2, dim=(1, 2)) / pairs_n_pixels # (n_pairs,)\n",
    "    i_means_cal = a_coefs[pairs_i] * i_means + b_coefs[pairs_i] # (n_pairs,)\n",
    "    j_means_cal = a_coefs[pairs_j] * j_means + b_coefs[pairs_j] # (n_pairs,)\n",
    "    #assert that i_clips_cal_mean and j_clips_cal_mean do not contain any NaNs\n",
    "\n",
    "    # #group i_clips_cal_mean by pairs_i and calculate the mean\n",
    "    # if epoch % 50 == 0:\n",
    "    #     xs = []\n",
    "    #     ys = []\n",
    "    #     for k in range(n_images):\n",
    "    #         for mean_val in i_clips_cal_mean.detach().cpu().numpy()[pairs_i == k]:\n",
    "    #             xs.append(k)\n",
    "    #             ys.append(mean_val)\n",
    "    #         for mean_val in j_clips_cal_mean.detach().cpu().numpy()[pairs_j == k]:\n",
    "    #             xs.append(k)\n",
    "    #             ys.append(mean_val)\n",
    "    #     plt.plot(xs, ys, \".\")\n",
    "    #     plt.show()\n",
    "    #####\n",
    "    #pixel_loss = torch.sum((i_clips_cal - j_clips_cal)**2 * masks * weights[:, None, None])/n_pixels\n",
    "    pixel_loss = torch.sum((i_means_cal - j_means_cal)**2 * weights)/n_pairs\n",
    "    #####\n",
    "    #loss using image means and image means cal\n",
    "    # pixel_loss = torch.sum((image_means_cal - image_means)**2)/n_images\n",
    "    ##\n",
    "    \n",
    "    #pixel_loss = torch.mean((i_clips_cal_mean - j_clips_cal_mean)**2)\n",
    "    # mean_loss = 0.0000001  *(0.5/n_pairs)*(\n",
    "    #                 torch.sum((i_clips_cal_mean - i_clips_mean)**2 * weights[:, None, None]) + \n",
    "    #                 torch.sum((j_clips_cal_mean - j_clips_mean)**2 * weights[:, None, None])\n",
    "    #             )\n",
    "    mean_loss = 0.01*torch.abs(torch.mean(image_means_cal) - torch.mean(image_means))\n",
    "    #var_loss =  0.1   *(0.5/n_pairs)*(torch.sum(torch.abs(i_clips_cal_var - i_clips_var)**1)   + torch.sum(torch.abs(j_clips_cal_var - j_clips_var)**1))\n",
    "\n",
    "    loss = pixel_loss + mean_loss# + var_loss\n",
    "    # loss = bias_loss\n",
    "    loss.backward()\n",
    "    optimizer.step()\n",
    "    scheduler.step(loss)\n",
    "    \n",
    "    if best_loss-loss.item() > CFG.ES_MIN_DELTA:\n",
    "        best_loss = loss.item()\n",
    "        best_a_coefs = a_coefs.detach().cpu().numpy()\n",
    "        best_b_coefs = b_coefs.detach().cpu().numpy()\n",
    "        es_counter = 0\n",
    "    else:\n",
    "        es_counter += 1\n",
    "        if es_counter > CFG.ES_PATIENCE:\n",
    "            print(\"Early stopping\")\n",
    "            # for i_clip, j_clip, i, j, mask, a_i, b_i, a_j, b_j, i_clip_cal_mean, j_clip_cal_mean in zip(tqdm(i_clips_cal.detach().cpu().numpy()), j_clips_cal.detach().cpu().numpy(), pairs_i.detach().cpu().numpy(), pairs_j.detach().cpu().numpy(), masks.detach().cpu().numpy(), a_coefs[pairs_i].detach().cpu().numpy(), b_coefs[pairs_i].detach().cpu().numpy(), a_coefs[pairs_j].detach().cpu().numpy(), b_coefs[pairs_j].detach().cpu().numpy(), i_clips_cal_mean.detach().cpu().numpy(), j_clips_cal_mean.detach().cpu().numpy()):\n",
    "            #     fig, ax = plt.subplots(1,2, dpi=50)\n",
    "            #     ax[0].imshow(i_clip * mask)\n",
    "            #     ax[0].set_title(f\"{i} {i_clip_cal_mean}\")\n",
    "            #     ax[1].imshow(j_clip * mask)\n",
    "            #     ax[1].set_title(f\"{j} {j_clip_cal_mean}\")\n",
    "            #     fig.savefig(f\"{PLOT_CLIP_DIR}/{i}_{j}.png\")\n",
    "            #     plt.close(fig)\n",
    "            break\n",
    "    # bias_losses.append(bias_loss.item())\n",
    "    pixel_losses.append(pixel_loss.item())\n",
    "    mean_losses.append(mean_loss.item())\n",
    "    #var_losses.append(var_loss.item())\n",
    "\n",
    "    pbar.set_postfix({\n",
    "        \"pixel_loss\": pixel_loss.item(), \n",
    "        # 'bias_loss': bias_loss.item(),\n",
    "        \"mean_loss\": mean_loss.item(),\n",
    "        #\"var_loss\": var_loss.item(),\n",
    "        \"loss\": loss.item(), \n",
    "        \"a_mean\": a_coefs.mean().item(), \n",
    "        \"b_mean\": b_coefs.mean().item()})"
   ]
  },
  {
   "cell_type": "code",
   "execution_count": null,
   "metadata": {},
   "outputs": [
    {
     "data": {
      "image/png": "[encoded data removed]",
      "text/plain": [
       "<Figure size 1500x500 with 1 Axes>"
      ]
     },
     "metadata": {},
     "output_type": "display_data"
    }
   ],
   "source": [
    "#plot losses with log scale\n",
    "plt.figure(figsize=(15, 5))\n",
    "plt.plot(pixel_losses, label=\"pixel_loss\")\n",
    "plt.plot(bias_losses, label=\"bias_loss\")\n",
    "plt.plot(mean_losses, label=\"mean_loss\")\n",
    "#plt.plot(var_losses, label=\"var_loss\")\n",
    "#plt.yscale(\"log\")\n",
    "plt.legend()\n",
    "plt.show()"
   ]
  },
  {
   "cell_type": "code",
   "execution_count": null,
   "metadata": {},
   "outputs": [
    {
     "data": {
      "application/vnd.jupyter.widget-view+json": {
       "model_id": "a59d144debd243f1b99bcd50a5233ea7",
       "version_major": 2,
       "version_minor": 0
      },
      "text/plain": [
       "  0%|          | 0/452 [00:00<?, ?it/s]"
      ]
     },
     "metadata": {},
     "output_type": "display_data"
    }
   ],
   "source": [
    "\n",
    "recreate_dir(GEOTIF_CAL_DIR)\n",
    "recreate_dir(TIF_CAL_DIR)\n",
    "def save_calib(name, a, b):\n",
    "    geotif = rxr.open_rasterio(f\"{GEOTIF_DEVIGNETTE_DIR}/{name}\", masked=True)\n",
    "    geotif.data = geotif.data * a + b\n",
    "    geotif.rio.to_raster(f\"{GEOTIF_CAL_DIR}/{name}\")\n",
    "    tif = rxr.open_rasterio(f\"{TIF_DEVIGNETTE_DIR}/{name}\", masked=True)\n",
    "    tif.data = tif.data * a + b\n",
    "    tif.rio.to_raster(f\"{TIF_CAL_DIR}/{name}\")\n",
    "resutlts = p_map(save_calib, footprints[\"name\"], best_a_coefs, best_b_coefs)"
   ]
  },
  {
   "cell_type": "code",
   "execution_count": null,
   "metadata": {},
   "outputs": [],
   "source": []
  },
  {
   "cell_type": "code",
   "execution_count": null,
   "metadata": {},
   "outputs": [],
   "source": []
  }
 ],
 "metadata": {
  "kernelspec": {
   "display_name": "Python 3",
   "language": "python",
   "name": "python3"
  },
  "language_info": {
   "codemirror_mode": {
    "name": "ipython",
    "version": 3
   },
   "file_extension": ".py",
   "mimetype": "text/x-python",
   "name": "python",
   "nbconvert_exporter": "python",
   "pygments_lexer": "ipython3",
   "version": "3.9.2"
  },
  "orig_nbformat": 4,
  "vscode": {
   "interpreter": {
    "hash": "31f2aee4e71d21fbe5cf8b01ff0e069b9275f58929596ceb00d14d90e3e16cd6"
   }
  }
 },
 "nbformat": 4,
 "nbformat_minor": 2
}
