{
 "cells": [
  {
   "cell_type": "code",
   "execution_count": 7,
   "id": "721f71ba-928a-4766-82ed-15b887b66d35",
   "metadata": {},
   "outputs": [],
   "source": [
    "import rioxarray as rxr\n",
    "import leafmap"
   ]
  },
  {
   "cell_type": "code",
   "execution_count": 8,
   "id": "26168bdc-7636-41a1-9836-0223eb75507c",
   "metadata": {},
   "outputs": [],
   "source": [
    "rxr.open_rasterio(\"MOD11A1.A2022272.h19v03.061.2022273091950.hdf\")[\"LST_Day_1km\"].rio.to_raster(\"lst.tif\")"
   ]
  },
  {
   "cell_type": "code",
   "execution_count": 9,
   "id": "fe7c54f3-850a-4c61-b6ff-0716d66a7d6d",
   "metadata": {},
   "outputs": [
    {
     "ename": "ImportError",
     "evalue": "localtileserver is not installed. Please install it before proceeding. https://github.com/banesullivan/localtileserver",
     "output_type": "error",
     "traceback": [
      "\u001b[0;31m---------------------------------------------------------------------------\u001b[0m",
      "\u001b[0;31mModuleNotFoundError\u001b[0m                       Traceback (most recent call last)",
      "File \u001b[0;32m/usr/local/lib/python3.9/dist-packages/leafmap/common.py:270\u001b[0m, in \u001b[0;36mcheck_package\u001b[0;34m(name, URL)\u001b[0m\n\u001b[1;32m    269\u001b[0m \u001b[38;5;28;01mtry\u001b[39;00m:\n\u001b[0;32m--> 270\u001b[0m     \u001b[38;5;28;43m__import__\u001b[39;49m\u001b[43m(\u001b[49m\u001b[43mname\u001b[49m\u001b[38;5;241;43m.\u001b[39;49m\u001b[43mlower\u001b[49m\u001b[43m(\u001b[49m\u001b[43m)\u001b[49m\u001b[43m)\u001b[49m\n\u001b[1;32m    271\u001b[0m \u001b[38;5;28;01mexcept\u001b[39;00m \u001b[38;5;167;01mException\u001b[39;00m:\n",
      "File \u001b[0;32m/usr/local/lib/python3.9/dist-packages/localtileserver/__init__.py:6\u001b[0m\n\u001b[1;32m      5\u001b[0m \u001b[38;5;28;01mfrom\u001b[39;00m \u001b[38;5;21;01mlocaltileserver\u001b[39;00m\u001b[38;5;21;01m.\u001b[39;00m\u001b[38;5;21;01mtileserver\u001b[39;00m\u001b[38;5;21;01m.\u001b[39;00m\u001b[38;5;21;01mutilities\u001b[39;00m \u001b[38;5;28;01mimport\u001b[39;00m get_cache_dir, make_vsi, purge_cache\n\u001b[0;32m----> 6\u001b[0m \u001b[38;5;28;01mfrom\u001b[39;00m \u001b[38;5;21;01mlocaltileserver\u001b[39;00m\u001b[38;5;21;01m.\u001b[39;00m\u001b[38;5;21;01mvalidate\u001b[39;00m \u001b[38;5;28;01mimport\u001b[39;00m validate_cog\n\u001b[1;32m      7\u001b[0m \u001b[38;5;28;01mfrom\u001b[39;00m \u001b[38;5;21;01mlocaltileserver\u001b[39;00m\u001b[38;5;21;01m.\u001b[39;00m\u001b[38;5;21;01mwidgets\u001b[39;00m \u001b[38;5;28;01mimport\u001b[39;00m (\n\u001b[1;32m      8\u001b[0m     LocalTileServerLayerMixin,\n\u001b[1;32m      9\u001b[0m     get_folium_tile_layer,\n\u001b[1;32m     10\u001b[0m     get_leaflet_roi_controls,\n\u001b[1;32m     11\u001b[0m     get_leaflet_tile_layer,\n\u001b[1;32m     12\u001b[0m )\n",
      "File \u001b[0;32m/usr/local/lib/python3.9/dist-packages/localtileserver/validate.py:5\u001b[0m\n\u001b[1;32m      4\u001b[0m \u001b[38;5;28;01mfrom\u001b[39;00m \u001b[38;5;21;01mlarge_image\u001b[39;00m\u001b[38;5;21;01m.\u001b[39;00m\u001b[38;5;21;01mtilesource\u001b[39;00m \u001b[38;5;28;01mimport\u001b[39;00m FileTileSource\n\u001b[0;32m----> 5\u001b[0m \u001b[38;5;28;01mfrom\u001b[39;00m \u001b[38;5;21;01mosgeo_utils\u001b[39;00m\u001b[38;5;21;01m.\u001b[39;00m\u001b[38;5;21;01msamples\u001b[39;00m\u001b[38;5;21;01m.\u001b[39;00m\u001b[38;5;21;01mvalidate_cloud_optimized_geotiff\u001b[39;00m \u001b[38;5;28;01mimport\u001b[39;00m (\n\u001b[1;32m      6\u001b[0m     ValidateCloudOptimizedGeoTIFFException,\n\u001b[1;32m      7\u001b[0m     validate \u001b[38;5;28;01mas\u001b[39;00m gdal_validate,\n\u001b[1;32m      8\u001b[0m )\n\u001b[1;32m     10\u001b[0m \u001b[38;5;28;01mfrom\u001b[39;00m \u001b[38;5;21;01mlocaltileserver\u001b[39;00m\u001b[38;5;21;01m.\u001b[39;00m\u001b[38;5;21;01mclient\u001b[39;00m \u001b[38;5;28;01mimport\u001b[39;00m BaseTileClient\n",
      "\u001b[0;31mModuleNotFoundError\u001b[0m: No module named 'osgeo_utils'",
      "\nDuring handling of the above exception, another exception occurred:\n",
      "\u001b[0;31mImportError\u001b[0m                               Traceback (most recent call last)",
      "Cell \u001b[0;32mIn [9], line 2\u001b[0m\n\u001b[1;32m      1\u001b[0m m \u001b[38;5;241m=\u001b[39m leafmap\u001b[38;5;241m.\u001b[39mMap()\n\u001b[0;32m----> 2\u001b[0m \u001b[43mm\u001b[49m\u001b[38;5;241;43m.\u001b[39;49m\u001b[43madd_raster\u001b[49m\u001b[43m(\u001b[49m\u001b[38;5;124;43m\"\u001b[39;49m\u001b[38;5;124;43mlst.tif\u001b[39;49m\u001b[38;5;124;43m\"\u001b[39;49m\u001b[43m)\u001b[49m\n\u001b[1;32m      3\u001b[0m m\n",
      "File \u001b[0;32m/usr/local/lib/python3.9/dist-packages/leafmap/leafmap.py:1648\u001b[0m, in \u001b[0;36mMap.add_raster\u001b[0;34m(self, source, band, palette, vmin, vmax, nodata, attribution, layer_name, **kwargs)\u001b[0m\n\u001b[1;32m   1618\u001b[0m \u001b[38;5;28;01mdef\u001b[39;00m \u001b[38;5;21madd_raster\u001b[39m(\n\u001b[1;32m   1619\u001b[0m     \u001b[38;5;28mself\u001b[39m,\n\u001b[1;32m   1620\u001b[0m     source,\n\u001b[0;32m   (...)\u001b[0m\n\u001b[1;32m   1628\u001b[0m     \u001b[38;5;241m*\u001b[39m\u001b[38;5;241m*\u001b[39mkwargs,\n\u001b[1;32m   1629\u001b[0m ):\n\u001b[1;32m   1630\u001b[0m     \u001b[38;5;124;03m\"\"\"Add a local raster dataset to the map.\u001b[39;00m\n\u001b[1;32m   1631\u001b[0m \u001b[38;5;124;03m        If you are using this function in JupyterHub on a remote server (e.g., Binder, Microsoft Planetary Computer),\u001b[39;00m\n\u001b[1;32m   1632\u001b[0m \u001b[38;5;124;03m        try adding to following two lines to the beginning of the notebook if the raster does not render properly.\u001b[39;00m\n\u001b[0;32m   (...)\u001b[0m\n\u001b[1;32m   1645\u001b[0m \u001b[38;5;124;03m        layer_name (str, optional): The layer name to use. Defaults to 'Local COG'.\u001b[39;00m\n\u001b[1;32m   1646\u001b[0m \u001b[38;5;124;03m    \"\"\"\u001b[39;00m\n\u001b[0;32m-> 1648\u001b[0m     tile_layer, tile_client \u001b[38;5;241m=\u001b[39m \u001b[43mget_local_tile_layer\u001b[49m\u001b[43m(\u001b[49m\n\u001b[1;32m   1649\u001b[0m \u001b[43m        \u001b[49m\u001b[43msource\u001b[49m\u001b[43m,\u001b[49m\n\u001b[1;32m   1650\u001b[0m \u001b[43m        \u001b[49m\u001b[43mband\u001b[49m\u001b[38;5;241;43m=\u001b[39;49m\u001b[43mband\u001b[49m\u001b[43m,\u001b[49m\n\u001b[1;32m   1651\u001b[0m \u001b[43m        \u001b[49m\u001b[43mpalette\u001b[49m\u001b[38;5;241;43m=\u001b[39;49m\u001b[43mpalette\u001b[49m\u001b[43m,\u001b[49m\n\u001b[1;32m   1652\u001b[0m \u001b[43m        \u001b[49m\u001b[43mvmin\u001b[49m\u001b[38;5;241;43m=\u001b[39;49m\u001b[43mvmin\u001b[49m\u001b[43m,\u001b[49m\n\u001b[1;32m   1653\u001b[0m \u001b[43m        \u001b[49m\u001b[43mvmax\u001b[49m\u001b[38;5;241;43m=\u001b[39;49m\u001b[43mvmax\u001b[49m\u001b[43m,\u001b[49m\n\u001b[1;32m   1654\u001b[0m \u001b[43m        \u001b[49m\u001b[43mnodata\u001b[49m\u001b[38;5;241;43m=\u001b[39;49m\u001b[43mnodata\u001b[49m\u001b[43m,\u001b[49m\n\u001b[1;32m   1655\u001b[0m \u001b[43m        \u001b[49m\u001b[43mattribution\u001b[49m\u001b[38;5;241;43m=\u001b[39;49m\u001b[43mattribution\u001b[49m\u001b[43m,\u001b[49m\n\u001b[1;32m   1656\u001b[0m \u001b[43m        \u001b[49m\u001b[43mlayer_name\u001b[49m\u001b[38;5;241;43m=\u001b[39;49m\u001b[43mlayer_name\u001b[49m\u001b[43m,\u001b[49m\n\u001b[1;32m   1657\u001b[0m \u001b[43m        \u001b[49m\u001b[43mreturn_client\u001b[49m\u001b[38;5;241;43m=\u001b[39;49m\u001b[38;5;28;43;01mTrue\u001b[39;49;00m\u001b[43m,\u001b[49m\n\u001b[1;32m   1658\u001b[0m \u001b[43m        \u001b[49m\u001b[38;5;241;43m*\u001b[39;49m\u001b[38;5;241;43m*\u001b[39;49m\u001b[43mkwargs\u001b[49m\u001b[43m,\u001b[49m\n\u001b[1;32m   1659\u001b[0m \u001b[43m    \u001b[49m\u001b[43m)\u001b[49m\n\u001b[1;32m   1661\u001b[0m     \u001b[38;5;28mself\u001b[39m\u001b[38;5;241m.\u001b[39madd_layer(tile_layer)\n\u001b[1;32m   1663\u001b[0m     bounds \u001b[38;5;241m=\u001b[39m tile_client\u001b[38;5;241m.\u001b[39mbounds()  \u001b[38;5;66;03m# [ymin, ymax, xmin, xmax]\u001b[39;00m\n",
      "File \u001b[0;32m/usr/local/lib/python3.9/dist-packages/leafmap/common.py:3865\u001b[0m, in \u001b[0;36mget_local_tile_layer\u001b[0;34m(source, port, debug, projection, band, palette, vmin, vmax, nodata, attribution, tile_format, layer_name, return_client, **kwargs)\u001b[0m\n\u001b[1;32m   3823\u001b[0m \u001b[38;5;28;01mdef\u001b[39;00m \u001b[38;5;21mget_local_tile_layer\u001b[39m(\n\u001b[1;32m   3824\u001b[0m     source,\n\u001b[1;32m   3825\u001b[0m     port\u001b[38;5;241m=\u001b[39m\u001b[38;5;124m\"\u001b[39m\u001b[38;5;124mdefault\u001b[39m\u001b[38;5;124m\"\u001b[39m,\n\u001b[0;32m   (...)\u001b[0m\n\u001b[1;32m   3837\u001b[0m     \u001b[38;5;241m*\u001b[39m\u001b[38;5;241m*\u001b[39mkwargs,\n\u001b[1;32m   3838\u001b[0m ):\n\u001b[1;32m   3839\u001b[0m     \u001b[38;5;124;03m\"\"\"Generate an ipyleaflet/folium TileLayer from a local raster dataset or remote Cloud Optimized GeoTIFF (COG).\u001b[39;00m\n\u001b[1;32m   3840\u001b[0m \u001b[38;5;124;03m        If you are using this function in JupyterHub on a remote server (e.g., Binder, Microsoft Planetary Computer),\u001b[39;00m\n\u001b[1;32m   3841\u001b[0m \u001b[38;5;124;03m        try adding to following two lines to the beginning of the notebook if the raster does not render properly.\u001b[39;00m\n\u001b[0;32m   (...)\u001b[0m\n\u001b[1;32m   3862\u001b[0m \u001b[38;5;124;03m        ipyleaflet.TileLayer | folium.TileLayer: An ipyleaflet.TileLayer or folium.TileLayer.\u001b[39;00m\n\u001b[1;32m   3863\u001b[0m \u001b[38;5;124;03m    \"\"\"\u001b[39;00m\n\u001b[0;32m-> 3865\u001b[0m     \u001b[43mcheck_package\u001b[49m\u001b[43m(\u001b[49m\n\u001b[1;32m   3866\u001b[0m \u001b[43m        \u001b[49m\u001b[38;5;124;43m\"\u001b[39;49m\u001b[38;5;124;43mlocaltileserver\u001b[39;49m\u001b[38;5;124;43m\"\u001b[39;49m\u001b[43m,\u001b[49m\u001b[43m \u001b[49m\u001b[43mURL\u001b[49m\u001b[38;5;241;43m=\u001b[39;49m\u001b[38;5;124;43m\"\u001b[39;49m\u001b[38;5;124;43mhttps://github.com/banesullivan/localtileserver\u001b[39;49m\u001b[38;5;124;43m\"\u001b[39;49m\n\u001b[1;32m   3867\u001b[0m \u001b[43m    \u001b[49m\u001b[43m)\u001b[49m\n\u001b[1;32m   3869\u001b[0m     \u001b[38;5;66;03m# Make it compatible with binder and JupyterHub\u001b[39;00m\n\u001b[1;32m   3870\u001b[0m     \u001b[38;5;28;01mif\u001b[39;00m os\u001b[38;5;241m.\u001b[39menviron\u001b[38;5;241m.\u001b[39mget(\u001b[38;5;124m\"\u001b[39m\u001b[38;5;124mJUPYTERHUB_SERVICE_PREFIX\u001b[39m\u001b[38;5;124m\"\u001b[39m) \u001b[38;5;129;01mis\u001b[39;00m \u001b[38;5;129;01mnot\u001b[39;00m \u001b[38;5;28;01mNone\u001b[39;00m:\n",
      "File \u001b[0;32m/usr/local/lib/python3.9/dist-packages/leafmap/common.py:272\u001b[0m, in \u001b[0;36mcheck_package\u001b[0;34m(name, URL)\u001b[0m\n\u001b[1;32m    270\u001b[0m     \u001b[38;5;28m__import__\u001b[39m(name\u001b[38;5;241m.\u001b[39mlower())\n\u001b[1;32m    271\u001b[0m \u001b[38;5;28;01mexcept\u001b[39;00m \u001b[38;5;167;01mException\u001b[39;00m:\n\u001b[0;32m--> 272\u001b[0m     \u001b[38;5;28;01mraise\u001b[39;00m \u001b[38;5;167;01mImportError\u001b[39;00m(\n\u001b[1;32m    273\u001b[0m         \u001b[38;5;124mf\u001b[39m\u001b[38;5;124m\"\u001b[39m\u001b[38;5;132;01m{\u001b[39;00mname\u001b[38;5;132;01m}\u001b[39;00m\u001b[38;5;124m is not installed. Please install it before proceeding. \u001b[39m\u001b[38;5;132;01m{\u001b[39;00mURL\u001b[38;5;132;01m}\u001b[39;00m\u001b[38;5;124m\"\u001b[39m\n\u001b[1;32m    274\u001b[0m     )\n",
      "\u001b[0;31mImportError\u001b[0m: localtileserver is not installed. Please install it before proceeding. https://github.com/banesullivan/localtileserver"
     ]
    }
   ],
   "source": [
    "m = leafmap.Map()\n",
    "m.add_raster(\"lst.tif\")\n",
    "m"
   ]
  },
  {
   "cell_type": "code",
   "execution_count": null,
   "id": "32eb59b4-f787-40ad-9532-c68165d0beb1",
   "metadata": {},
   "outputs": [],
   "source": []
  },
  {
   "cell_type": "code",
   "execution_count": null,
   "id": "06542774-929f-4c8a-890d-9c926b07c017",
   "metadata": {},
   "outputs": [],
   "source": []
  }
 ],
 "metadata": {
  "kernelspec": {
   "display_name": "Python 3 (ipykernel)",
   "language": "python",
   "name": "python3"
  },
  "language_info": {
   "codemirror_mode": {
    "name": "ipython",
    "version": 3
   },
   "file_extension": ".py",
   "mimetype": "text/x-python",
   "name": "python",
   "nbconvert_exporter": "python",
   "pygments_lexer": "ipython3",
   "version": "3.9.2"
  }
 },
 "nbformat": 4,
 "nbformat_minor": 5
}
